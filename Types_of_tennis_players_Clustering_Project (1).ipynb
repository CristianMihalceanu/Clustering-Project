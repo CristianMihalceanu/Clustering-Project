{
  "nbformat": 4,
  "nbformat_minor": 0,
  "metadata": {
    "colab": {
      "name": "Types of tennis players - Clustering Project",
      "provenance": [],
      "collapsed_sections": []
    },
    "kernelspec": {
      "name": "python3",
      "display_name": "Python 3"
    }
  },
  "cells": [
    {
      "cell_type": "markdown",
      "metadata": {
        "id": "ck2WRY3AcIvH"
      },
      "source": [
        "# **Types of tennis players - clustering project**\n"
      ]
    },
    {
      "cell_type": "markdown",
      "metadata": {
        "id": "63JeZVwY-diG"
      },
      "source": [
        "## Origins of the project\n",
        "\n",
        "Back in 2014, listening to the radio, each day would bring joy upon my face as the news were confirming successive victories for the romanian female tennis player Simona Halep.\n",
        "\n",
        "Yet hardly in the spotlight at the time, I remember when the news came through that she won the Quatar Open, at Doha. \n",
        "\n",
        "The magnitude of her success in the past couple of years is greatly attributed to the genius of her coach, Darren Cahill.\n",
        "\n",
        "Useful links: \n",
        "https://www.youtube.com/watch?v=fTxlVppvKug\n",
        "\n",
        "https://www.youtube.com/watch?v=gMSmtj_uA8o\n",
        "\n",
        "As an amateur tennis player myself, I find it rather fascinating that a coach can see through the opponent's style of play and tell the mentee what to focus on in order to get back in the game, should a difficult moment arise.\n",
        "\n",
        "Through the means of this project I intend to find out if tennis players can be distinguished in several categories, and what style of play should one adopt against each.\n",
        "\n",
        "Join me on this journey!\n"
      ]
    },
    {
      "cell_type": "markdown",
      "metadata": {
        "id": "_M1IvHdwynEC"
      },
      "source": [
        "## General Findings \n"
      ]
    },
    {
      "cell_type": "markdown",
      "metadata": {
        "id": "lEzMA63UtrNy"
      },
      "source": [
        "\n",
        "\n",
        "Using both \"The elbow method\" and \"The Dendrogram Approach\", we were able to determine that tennis players can roughly be categorized in 4 different clusters:\n",
        "\n",
        "1) The serve-and-volley schemer\n",
        "\n",
        "-traits: NPA++  FSW++  FSP--\n",
        "\n",
        "-style of play: the players in this group adopt a very aggressive tactic, coming to the net at every opportunity and trying to close the point as soon as possible.\n",
        "\n",
        "-representatives: tall players in general, as their height prevents them from excelling in rallies. ( John Istner, Jack Sock, Nick Kyrgios and the one and only Roger Federer )\n",
        "\n",
        "2) Behind the baseline defender\n",
        "\n",
        "-traits: WNR++  UFE++  NPA--\n",
        "\n",
        "-style of play: probably the most common type of players, they prefer staying in the rally for as long as possible, tiring the opponent in the long run and forcing the error in the respective point\n",
        "\n",
        "-representatives: Simona Halep, Diego Schwartzman, Rafael Nadal\n",
        "\n",
        "3) The Counter-Puncher\n",
        "\n",
        "-traits: UFE--  NPA--\n",
        "\n",
        "-style of play: adjusting his/her tennis according to the opponent; patiently returning the ball in the opposite court until the player on the other side makes a mistake\n",
        "\n",
        "-representatives: Alex Zverev, Dominic Thiem\n",
        "\n",
        "4) The Well-rounded player\n",
        "\n",
        "-traits: WNR--\n",
        "\n",
        "-style of play: does not excel in any particular area, and will not the opponent recognize any weak points at first glance. Only downside of this style of play is lack of risks taken.\n",
        "\n",
        "-representatives: Novak Djokovic, Daniil Medvedev, Angelique Kerber"
      ]
    },
    {
      "cell_type": "code",
      "metadata": {
        "id": "L_NbL4vJwSZ1"
      },
      "source": [
        "# Let's start by importing some useful libraries in the beginning\n",
        "\n",
        "import numpy as np\n",
        "import pandas as pd\n",
        "import matplotlib.pyplot as plt\n",
        "%matplotlib inline\n",
        "import seaborn as sns"
      ],
      "execution_count": null,
      "outputs": []
    },
    {
      "cell_type": "code",
      "metadata": {
        "id": "HhLzO79m05yV",
        "colab": {
          "base_uri": "https://localhost:8080/",
          "height": 89
        },
        "outputId": "6154e186-1bba-4a7a-8918-3f231fdbff20"
      },
      "source": [
        "# Useful abbreviations:\n",
        "\n",
        "'''\n",
        "Result Result of the match (0/1) \n",
        "\n",
        "FSP = First Serve Percentage for player  (Real Number)\n",
        "\n",
        "FSW = First Serve Won by player  (Real Number)\n",
        "\n",
        "SSP = Second Serve Percentage for player  (Real Number)\n",
        "\n",
        "SSW = Second Serve Won by player (Real Number)\n",
        "\n",
        "ACE = Aces won by player  (Numeric-Integer)\n",
        "\n",
        "DBF = Double Faults committed by player  (Numeric-Integer)\n",
        "\n",
        "WNR = Winners earned by player  (Numeric)\n",
        "\n",
        "UFE = Unforced Errors committed by player  (Numeric)\n",
        "\n",
        "BPC = Break Points Created by player  (Numeric)\n",
        "\n",
        "BPW = Break Points Won by player  (Numeric)\n",
        "\n",
        "NPA = Net Points Attempted by player  (Numeric)\n",
        "\n",
        "NPW = Net Points Won by player  (Numeric)\n",
        "'''"
      ],
      "execution_count": null,
      "outputs": [
        {
          "output_type": "execute_result",
          "data": {
            "application/vnd.google.colaboratory.intrinsic+json": {
              "type": "string"
            },
            "text/plain": [
              "'\\nResult Result of the match (0/1) \\n\\nFSP = First Serve Percentage for player  (Real Number)\\n\\nFSW = First Serve Won by player  (Real Number)\\n\\nSSP = Second Serve Percentage for player  (Real Number)\\n\\nSSW = Second Serve Won by player (Real Number)\\n\\nACE = Aces won by player  (Numeric-Integer)\\n\\nDBF = Double Faults committed by player  (Numeric-Integer)\\n\\nWNR = Winners earned by player  (Numeric)\\n\\nUFE = Unforced Errors committed by player  (Numeric)\\n\\nBPC = Break Points Created by player  (Numeric)\\n\\nBPW = Break Points Won by player  (Numeric)\\n\\nNPA = Net Points Attempted by player  (Numeric)\\n\\nNPW = Net Points Won by player  (Numeric)\\n'"
            ]
          },
          "metadata": {
            "tags": []
          },
          "execution_count": 4
        }
      ]
    },
    {
      "cell_type": "markdown",
      "metadata": {
        "id": "Azj3FZgNDUsc"
      },
      "source": [
        "## Data collected from UCI machine learning repository\n",
        "\n",
        "https://archive.ics.uci.edu/ml/datasets/Tennis+Major+Tournament+Match+Statistics"
      ]
    },
    {
      "cell_type": "code",
      "metadata": {
        "id": "a9rgJUpAwk7v"
      },
      "source": [
        "df=pd.read_csv('FrenchOpen-men-2013.csv')\n",
        "dw=pd.read_csv('FrenchOpen-women-2013.csv')"
      ],
      "execution_count": null,
      "outputs": []
    },
    {
      "cell_type": "markdown",
      "metadata": {
        "id": "47ZYuf-Z81yT"
      },
      "source": [
        "## Data Preprocessing"
      ]
    },
    {
      "cell_type": "code",
      "metadata": {
        "id": "0pYKctjn1ijS",
        "colab": {
          "base_uri": "https://localhost:8080/",
          "height": 1000
        },
        "outputId": "4bd76582-5ec0-47c7-ddc0-87f64b561c51"
      },
      "source": [
        "df.describe().transpose()"
      ],
      "execution_count": null,
      "outputs": [
        {
          "output_type": "execute_result",
          "data": {
            "text/html": [
              "<div>\n",
              "<style scoped>\n",
              "    .dataframe tbody tr th:only-of-type {\n",
              "        vertical-align: middle;\n",
              "    }\n",
              "\n",
              "    .dataframe tbody tr th {\n",
              "        vertical-align: top;\n",
              "    }\n",
              "\n",
              "    .dataframe thead th {\n",
              "        text-align: right;\n",
              "    }\n",
              "</style>\n",
              "<table border=\"1\" class=\"dataframe\">\n",
              "  <thead>\n",
              "    <tr style=\"text-align: right;\">\n",
              "      <th></th>\n",
              "      <th>count</th>\n",
              "      <th>mean</th>\n",
              "      <th>std</th>\n",
              "      <th>min</th>\n",
              "      <th>25%</th>\n",
              "      <th>50%</th>\n",
              "      <th>75%</th>\n",
              "      <th>max</th>\n",
              "    </tr>\n",
              "  </thead>\n",
              "  <tbody>\n",
              "    <tr>\n",
              "      <th>Round</th>\n",
              "      <td>125.0</td>\n",
              "      <td>1.952000</td>\n",
              "      <td>1.281733</td>\n",
              "      <td>1.0</td>\n",
              "      <td>1.00</td>\n",
              "      <td>1.0</td>\n",
              "      <td>2.00</td>\n",
              "      <td>7.0</td>\n",
              "    </tr>\n",
              "    <tr>\n",
              "      <th>Result</th>\n",
              "      <td>125.0</td>\n",
              "      <td>0.472000</td>\n",
              "      <td>0.501224</td>\n",
              "      <td>0.0</td>\n",
              "      <td>0.00</td>\n",
              "      <td>0.0</td>\n",
              "      <td>1.00</td>\n",
              "      <td>1.0</td>\n",
              "    </tr>\n",
              "    <tr>\n",
              "      <th>FNL.1</th>\n",
              "      <td>125.0</td>\n",
              "      <td>1.728000</td>\n",
              "      <td>1.316006</td>\n",
              "      <td>0.0</td>\n",
              "      <td>0.00</td>\n",
              "      <td>2.0</td>\n",
              "      <td>3.00</td>\n",
              "      <td>3.0</td>\n",
              "    </tr>\n",
              "    <tr>\n",
              "      <th>FNL.2</th>\n",
              "      <td>125.0</td>\n",
              "      <td>1.840000</td>\n",
              "      <td>1.272539</td>\n",
              "      <td>0.0</td>\n",
              "      <td>1.00</td>\n",
              "      <td>2.0</td>\n",
              "      <td>3.00</td>\n",
              "      <td>3.0</td>\n",
              "    </tr>\n",
              "    <tr>\n",
              "      <th>FSP.1</th>\n",
              "      <td>125.0</td>\n",
              "      <td>63.600000</td>\n",
              "      <td>8.036208</td>\n",
              "      <td>43.0</td>\n",
              "      <td>58.00</td>\n",
              "      <td>64.0</td>\n",
              "      <td>69.00</td>\n",
              "      <td>84.0</td>\n",
              "    </tr>\n",
              "    <tr>\n",
              "      <th>FSW.1</th>\n",
              "      <td>125.0</td>\n",
              "      <td>48.624000</td>\n",
              "      <td>18.030737</td>\n",
              "      <td>10.0</td>\n",
              "      <td>35.00</td>\n",
              "      <td>45.0</td>\n",
              "      <td>61.00</td>\n",
              "      <td>99.0</td>\n",
              "    </tr>\n",
              "    <tr>\n",
              "      <th>SSP.1</th>\n",
              "      <td>125.0</td>\n",
              "      <td>36.400000</td>\n",
              "      <td>8.036208</td>\n",
              "      <td>16.0</td>\n",
              "      <td>31.00</td>\n",
              "      <td>36.0</td>\n",
              "      <td>42.00</td>\n",
              "      <td>57.0</td>\n",
              "    </tr>\n",
              "    <tr>\n",
              "      <th>SSW.1</th>\n",
              "      <td>125.0</td>\n",
              "      <td>20.040000</td>\n",
              "      <td>8.777170</td>\n",
              "      <td>6.0</td>\n",
              "      <td>13.00</td>\n",
              "      <td>20.0</td>\n",
              "      <td>25.00</td>\n",
              "      <td>52.0</td>\n",
              "    </tr>\n",
              "    <tr>\n",
              "      <th>ACE.1</th>\n",
              "      <td>125.0</td>\n",
              "      <td>6.152000</td>\n",
              "      <td>4.802647</td>\n",
              "      <td>0.0</td>\n",
              "      <td>3.00</td>\n",
              "      <td>5.0</td>\n",
              "      <td>8.00</td>\n",
              "      <td>24.0</td>\n",
              "    </tr>\n",
              "    <tr>\n",
              "      <th>DBF.1</th>\n",
              "      <td>123.0</td>\n",
              "      <td>2.991870</td>\n",
              "      <td>2.348686</td>\n",
              "      <td>0.0</td>\n",
              "      <td>1.00</td>\n",
              "      <td>3.0</td>\n",
              "      <td>4.00</td>\n",
              "      <td>11.0</td>\n",
              "    </tr>\n",
              "    <tr>\n",
              "      <th>WNR.1</th>\n",
              "      <td>125.0</td>\n",
              "      <td>35.664000</td>\n",
              "      <td>16.977663</td>\n",
              "      <td>6.0</td>\n",
              "      <td>24.00</td>\n",
              "      <td>32.0</td>\n",
              "      <td>45.00</td>\n",
              "      <td>92.0</td>\n",
              "    </tr>\n",
              "    <tr>\n",
              "      <th>UFE.1</th>\n",
              "      <td>125.0</td>\n",
              "      <td>35.856000</td>\n",
              "      <td>15.128857</td>\n",
              "      <td>8.0</td>\n",
              "      <td>25.00</td>\n",
              "      <td>34.0</td>\n",
              "      <td>42.00</td>\n",
              "      <td>89.0</td>\n",
              "    </tr>\n",
              "    <tr>\n",
              "      <th>BPC.1</th>\n",
              "      <td>125.0</td>\n",
              "      <td>3.872000</td>\n",
              "      <td>2.504757</td>\n",
              "      <td>0.0</td>\n",
              "      <td>1.00</td>\n",
              "      <td>4.0</td>\n",
              "      <td>6.00</td>\n",
              "      <td>10.0</td>\n",
              "    </tr>\n",
              "    <tr>\n",
              "      <th>BPW.1</th>\n",
              "      <td>125.0</td>\n",
              "      <td>9.304000</td>\n",
              "      <td>5.132477</td>\n",
              "      <td>0.0</td>\n",
              "      <td>5.00</td>\n",
              "      <td>10.0</td>\n",
              "      <td>13.00</td>\n",
              "      <td>23.0</td>\n",
              "    </tr>\n",
              "    <tr>\n",
              "      <th>NPA.1</th>\n",
              "      <td>125.0</td>\n",
              "      <td>14.512000</td>\n",
              "      <td>8.068873</td>\n",
              "      <td>0.0</td>\n",
              "      <td>9.00</td>\n",
              "      <td>13.0</td>\n",
              "      <td>18.00</td>\n",
              "      <td>37.0</td>\n",
              "    </tr>\n",
              "    <tr>\n",
              "      <th>NPW.1</th>\n",
              "      <td>125.0</td>\n",
              "      <td>22.936000</td>\n",
              "      <td>11.523989</td>\n",
              "      <td>3.0</td>\n",
              "      <td>15.00</td>\n",
              "      <td>22.0</td>\n",
              "      <td>28.00</td>\n",
              "      <td>56.0</td>\n",
              "    </tr>\n",
              "    <tr>\n",
              "      <th>TPW.1</th>\n",
              "      <td>125.0</td>\n",
              "      <td>109.296000</td>\n",
              "      <td>36.192813</td>\n",
              "      <td>38.0</td>\n",
              "      <td>85.00</td>\n",
              "      <td>102.0</td>\n",
              "      <td>132.00</td>\n",
              "      <td>224.0</td>\n",
              "    </tr>\n",
              "    <tr>\n",
              "      <th>ST1.1</th>\n",
              "      <td>125.0</td>\n",
              "      <td>4.760000</td>\n",
              "      <td>1.850893</td>\n",
              "      <td>0.0</td>\n",
              "      <td>3.00</td>\n",
              "      <td>6.0</td>\n",
              "      <td>6.00</td>\n",
              "      <td>7.0</td>\n",
              "    </tr>\n",
              "    <tr>\n",
              "      <th>ST2.1</th>\n",
              "      <td>125.0</td>\n",
              "      <td>5.072000</td>\n",
              "      <td>1.728210</td>\n",
              "      <td>0.0</td>\n",
              "      <td>4.00</td>\n",
              "      <td>6.0</td>\n",
              "      <td>6.00</td>\n",
              "      <td>7.0</td>\n",
              "    </tr>\n",
              "    <tr>\n",
              "      <th>ST3.1</th>\n",
              "      <td>123.0</td>\n",
              "      <td>4.593496</td>\n",
              "      <td>1.982867</td>\n",
              "      <td>0.0</td>\n",
              "      <td>3.00</td>\n",
              "      <td>6.0</td>\n",
              "      <td>6.00</td>\n",
              "      <td>7.0</td>\n",
              "    </tr>\n",
              "    <tr>\n",
              "      <th>ST4.1</th>\n",
              "      <td>51.0</td>\n",
              "      <td>4.725490</td>\n",
              "      <td>2.236769</td>\n",
              "      <td>0.0</td>\n",
              "      <td>3.00</td>\n",
              "      <td>6.0</td>\n",
              "      <td>6.00</td>\n",
              "      <td>7.0</td>\n",
              "    </tr>\n",
              "    <tr>\n",
              "      <th>ST5.1</th>\n",
              "      <td>22.0</td>\n",
              "      <td>4.681818</td>\n",
              "      <td>2.212225</td>\n",
              "      <td>1.0</td>\n",
              "      <td>3.25</td>\n",
              "      <td>6.0</td>\n",
              "      <td>6.00</td>\n",
              "      <td>8.0</td>\n",
              "    </tr>\n",
              "    <tr>\n",
              "      <th>FSP.2</th>\n",
              "      <td>125.0</td>\n",
              "      <td>61.224000</td>\n",
              "      <td>6.893035</td>\n",
              "      <td>46.0</td>\n",
              "      <td>57.00</td>\n",
              "      <td>62.0</td>\n",
              "      <td>65.00</td>\n",
              "      <td>78.0</td>\n",
              "    </tr>\n",
              "    <tr>\n",
              "      <th>FSW.2</th>\n",
              "      <td>125.0</td>\n",
              "      <td>46.928000</td>\n",
              "      <td>17.611477</td>\n",
              "      <td>16.0</td>\n",
              "      <td>34.00</td>\n",
              "      <td>45.0</td>\n",
              "      <td>58.00</td>\n",
              "      <td>132.0</td>\n",
              "    </tr>\n",
              "    <tr>\n",
              "      <th>SSP.2</th>\n",
              "      <td>125.0</td>\n",
              "      <td>38.776000</td>\n",
              "      <td>6.893035</td>\n",
              "      <td>22.0</td>\n",
              "      <td>35.00</td>\n",
              "      <td>38.0</td>\n",
              "      <td>43.00</td>\n",
              "      <td>54.0</td>\n",
              "    </tr>\n",
              "    <tr>\n",
              "      <th>SSW.2</th>\n",
              "      <td>125.0</td>\n",
              "      <td>21.488000</td>\n",
              "      <td>8.178075</td>\n",
              "      <td>6.0</td>\n",
              "      <td>15.00</td>\n",
              "      <td>21.0</td>\n",
              "      <td>27.00</td>\n",
              "      <td>47.0</td>\n",
              "    </tr>\n",
              "    <tr>\n",
              "      <th>ACE.2</th>\n",
              "      <td>125.0</td>\n",
              "      <td>6.536000</td>\n",
              "      <td>5.007324</td>\n",
              "      <td>0.0</td>\n",
              "      <td>3.00</td>\n",
              "      <td>6.0</td>\n",
              "      <td>9.00</td>\n",
              "      <td>27.0</td>\n",
              "    </tr>\n",
              "    <tr>\n",
              "      <th>DBF.2</th>\n",
              "      <td>123.0</td>\n",
              "      <td>3.609756</td>\n",
              "      <td>2.156326</td>\n",
              "      <td>0.0</td>\n",
              "      <td>2.00</td>\n",
              "      <td>3.0</td>\n",
              "      <td>5.00</td>\n",
              "      <td>10.0</td>\n",
              "    </tr>\n",
              "    <tr>\n",
              "      <th>WNR.2</th>\n",
              "      <td>125.0</td>\n",
              "      <td>37.240000</td>\n",
              "      <td>15.807511</td>\n",
              "      <td>10.0</td>\n",
              "      <td>25.00</td>\n",
              "      <td>35.0</td>\n",
              "      <td>48.00</td>\n",
              "      <td>92.0</td>\n",
              "    </tr>\n",
              "    <tr>\n",
              "      <th>UFE.2</th>\n",
              "      <td>125.0</td>\n",
              "      <td>36.704000</td>\n",
              "      <td>14.464096</td>\n",
              "      <td>7.0</td>\n",
              "      <td>26.00</td>\n",
              "      <td>35.0</td>\n",
              "      <td>46.00</td>\n",
              "      <td>72.0</td>\n",
              "    </tr>\n",
              "    <tr>\n",
              "      <th>BPC.2</th>\n",
              "      <td>125.0</td>\n",
              "      <td>3.912000</td>\n",
              "      <td>2.543226</td>\n",
              "      <td>0.0</td>\n",
              "      <td>2.00</td>\n",
              "      <td>4.0</td>\n",
              "      <td>6.00</td>\n",
              "      <td>11.0</td>\n",
              "    </tr>\n",
              "    <tr>\n",
              "      <th>BPW.2</th>\n",
              "      <td>125.0</td>\n",
              "      <td>9.696000</td>\n",
              "      <td>5.061276</td>\n",
              "      <td>1.0</td>\n",
              "      <td>5.00</td>\n",
              "      <td>10.0</td>\n",
              "      <td>13.00</td>\n",
              "      <td>23.0</td>\n",
              "    </tr>\n",
              "    <tr>\n",
              "      <th>NPA.2</th>\n",
              "      <td>125.0</td>\n",
              "      <td>14.456000</td>\n",
              "      <td>7.984364</td>\n",
              "      <td>1.0</td>\n",
              "      <td>9.00</td>\n",
              "      <td>14.0</td>\n",
              "      <td>19.00</td>\n",
              "      <td>52.0</td>\n",
              "    </tr>\n",
              "    <tr>\n",
              "      <th>NPW.2</th>\n",
              "      <td>125.0</td>\n",
              "      <td>22.688000</td>\n",
              "      <td>12.256279</td>\n",
              "      <td>2.0</td>\n",
              "      <td>14.00</td>\n",
              "      <td>21.0</td>\n",
              "      <td>29.00</td>\n",
              "      <td>80.0</td>\n",
              "    </tr>\n",
              "    <tr>\n",
              "      <th>TPW.2</th>\n",
              "      <td>125.0</td>\n",
              "      <td>110.144000</td>\n",
              "      <td>35.574706</td>\n",
              "      <td>48.0</td>\n",
              "      <td>86.00</td>\n",
              "      <td>104.0</td>\n",
              "      <td>132.00</td>\n",
              "      <td>213.0</td>\n",
              "    </tr>\n",
              "    <tr>\n",
              "      <th>ST1.2</th>\n",
              "      <td>125.0</td>\n",
              "      <td>5.072000</td>\n",
              "      <td>1.801326</td>\n",
              "      <td>0.0</td>\n",
              "      <td>4.00</td>\n",
              "      <td>6.0</td>\n",
              "      <td>6.00</td>\n",
              "      <td>7.0</td>\n",
              "    </tr>\n",
              "    <tr>\n",
              "      <th>ST2.2</th>\n",
              "      <td>125.0</td>\n",
              "      <td>4.736000</td>\n",
              "      <td>1.943326</td>\n",
              "      <td>0.0</td>\n",
              "      <td>3.00</td>\n",
              "      <td>6.0</td>\n",
              "      <td>6.00</td>\n",
              "      <td>7.0</td>\n",
              "    </tr>\n",
              "    <tr>\n",
              "      <th>ST3.2</th>\n",
              "      <td>123.0</td>\n",
              "      <td>4.747967</td>\n",
              "      <td>1.901654</td>\n",
              "      <td>0.0</td>\n",
              "      <td>3.00</td>\n",
              "      <td>6.0</td>\n",
              "      <td>6.00</td>\n",
              "      <td>7.0</td>\n",
              "    </tr>\n",
              "    <tr>\n",
              "      <th>ST4.2</th>\n",
              "      <td>51.0</td>\n",
              "      <td>4.823529</td>\n",
              "      <td>1.657780</td>\n",
              "      <td>1.0</td>\n",
              "      <td>4.00</td>\n",
              "      <td>6.0</td>\n",
              "      <td>6.00</td>\n",
              "      <td>7.0</td>\n",
              "    </tr>\n",
              "    <tr>\n",
              "      <th>ST5.2</th>\n",
              "      <td>22.0</td>\n",
              "      <td>5.318182</td>\n",
              "      <td>2.190594</td>\n",
              "      <td>1.0</td>\n",
              "      <td>4.00</td>\n",
              "      <td>6.0</td>\n",
              "      <td>6.75</td>\n",
              "      <td>9.0</td>\n",
              "    </tr>\n",
              "  </tbody>\n",
              "</table>\n",
              "</div>"
            ],
            "text/plain": [
              "        count        mean        std   min    25%    50%     75%    max\n",
              "Round   125.0    1.952000   1.281733   1.0   1.00    1.0    2.00    7.0\n",
              "Result  125.0    0.472000   0.501224   0.0   0.00    0.0    1.00    1.0\n",
              "FNL.1   125.0    1.728000   1.316006   0.0   0.00    2.0    3.00    3.0\n",
              "FNL.2   125.0    1.840000   1.272539   0.0   1.00    2.0    3.00    3.0\n",
              "FSP.1   125.0   63.600000   8.036208  43.0  58.00   64.0   69.00   84.0\n",
              "FSW.1   125.0   48.624000  18.030737  10.0  35.00   45.0   61.00   99.0\n",
              "SSP.1   125.0   36.400000   8.036208  16.0  31.00   36.0   42.00   57.0\n",
              "SSW.1   125.0   20.040000   8.777170   6.0  13.00   20.0   25.00   52.0\n",
              "ACE.1   125.0    6.152000   4.802647   0.0   3.00    5.0    8.00   24.0\n",
              "DBF.1   123.0    2.991870   2.348686   0.0   1.00    3.0    4.00   11.0\n",
              "WNR.1   125.0   35.664000  16.977663   6.0  24.00   32.0   45.00   92.0\n",
              "UFE.1   125.0   35.856000  15.128857   8.0  25.00   34.0   42.00   89.0\n",
              "BPC.1   125.0    3.872000   2.504757   0.0   1.00    4.0    6.00   10.0\n",
              "BPW.1   125.0    9.304000   5.132477   0.0   5.00   10.0   13.00   23.0\n",
              "NPA.1   125.0   14.512000   8.068873   0.0   9.00   13.0   18.00   37.0\n",
              "NPW.1   125.0   22.936000  11.523989   3.0  15.00   22.0   28.00   56.0\n",
              "TPW.1   125.0  109.296000  36.192813  38.0  85.00  102.0  132.00  224.0\n",
              "ST1.1   125.0    4.760000   1.850893   0.0   3.00    6.0    6.00    7.0\n",
              "ST2.1   125.0    5.072000   1.728210   0.0   4.00    6.0    6.00    7.0\n",
              "ST3.1   123.0    4.593496   1.982867   0.0   3.00    6.0    6.00    7.0\n",
              "ST4.1    51.0    4.725490   2.236769   0.0   3.00    6.0    6.00    7.0\n",
              "ST5.1    22.0    4.681818   2.212225   1.0   3.25    6.0    6.00    8.0\n",
              "FSP.2   125.0   61.224000   6.893035  46.0  57.00   62.0   65.00   78.0\n",
              "FSW.2   125.0   46.928000  17.611477  16.0  34.00   45.0   58.00  132.0\n",
              "SSP.2   125.0   38.776000   6.893035  22.0  35.00   38.0   43.00   54.0\n",
              "SSW.2   125.0   21.488000   8.178075   6.0  15.00   21.0   27.00   47.0\n",
              "ACE.2   125.0    6.536000   5.007324   0.0   3.00    6.0    9.00   27.0\n",
              "DBF.2   123.0    3.609756   2.156326   0.0   2.00    3.0    5.00   10.0\n",
              "WNR.2   125.0   37.240000  15.807511  10.0  25.00   35.0   48.00   92.0\n",
              "UFE.2   125.0   36.704000  14.464096   7.0  26.00   35.0   46.00   72.0\n",
              "BPC.2   125.0    3.912000   2.543226   0.0   2.00    4.0    6.00   11.0\n",
              "BPW.2   125.0    9.696000   5.061276   1.0   5.00   10.0   13.00   23.0\n",
              "NPA.2   125.0   14.456000   7.984364   1.0   9.00   14.0   19.00   52.0\n",
              "NPW.2   125.0   22.688000  12.256279   2.0  14.00   21.0   29.00   80.0\n",
              "TPW.2   125.0  110.144000  35.574706  48.0  86.00  104.0  132.00  213.0\n",
              "ST1.2   125.0    5.072000   1.801326   0.0   4.00    6.0    6.00    7.0\n",
              "ST2.2   125.0    4.736000   1.943326   0.0   3.00    6.0    6.00    7.0\n",
              "ST3.2   123.0    4.747967   1.901654   0.0   3.00    6.0    6.00    7.0\n",
              "ST4.2    51.0    4.823529   1.657780   1.0   4.00    6.0    6.00    7.0\n",
              "ST5.2    22.0    5.318182   2.190594   1.0   4.00    6.0    6.75    9.0"
            ]
          },
          "metadata": {
            "tags": []
          },
          "execution_count": 6
        }
      ]
    },
    {
      "cell_type": "code",
      "metadata": {
        "id": "l4ziVPWw1gJi",
        "colab": {
          "base_uri": "https://localhost:8080/"
        },
        "outputId": "0a7b58fc-c604-46ca-ab05-e2fc19c5fa22"
      },
      "source": [
        "df.info()"
      ],
      "execution_count": null,
      "outputs": [
        {
          "output_type": "stream",
          "text": [
            "<class 'pandas.core.frame.DataFrame'>\n",
            "RangeIndex: 125 entries, 0 to 124\n",
            "Data columns (total 42 columns):\n",
            " #   Column   Non-Null Count  Dtype  \n",
            "---  ------   --------------  -----  \n",
            " 0   Player1  125 non-null    object \n",
            " 1   Player2  125 non-null    object \n",
            " 2   Round    125 non-null    int64  \n",
            " 3   Result   125 non-null    int64  \n",
            " 4   FNL.1    125 non-null    int64  \n",
            " 5   FNL.2    125 non-null    int64  \n",
            " 6   FSP.1    125 non-null    int64  \n",
            " 7   FSW.1    125 non-null    int64  \n",
            " 8   SSP.1    125 non-null    int64  \n",
            " 9   SSW.1    125 non-null    int64  \n",
            " 10  ACE.1    125 non-null    int64  \n",
            " 11  DBF.1    123 non-null    float64\n",
            " 12  WNR.1    125 non-null    int64  \n",
            " 13  UFE.1    125 non-null    int64  \n",
            " 14  BPC.1    125 non-null    int64  \n",
            " 15  BPW.1    125 non-null    int64  \n",
            " 16  NPA.1    125 non-null    int64  \n",
            " 17  NPW.1    125 non-null    int64  \n",
            " 18  TPW.1    125 non-null    int64  \n",
            " 19  ST1.1    125 non-null    int64  \n",
            " 20  ST2.1    125 non-null    int64  \n",
            " 21  ST3.1    123 non-null    float64\n",
            " 22  ST4.1    51 non-null     float64\n",
            " 23  ST5.1    22 non-null     float64\n",
            " 24  FSP.2    125 non-null    int64  \n",
            " 25  FSW.2    125 non-null    int64  \n",
            " 26  SSP.2    125 non-null    int64  \n",
            " 27  SSW.2    125 non-null    int64  \n",
            " 28  ACE.2    125 non-null    int64  \n",
            " 29  DBF.2    123 non-null    float64\n",
            " 30  WNR.2    125 non-null    int64  \n",
            " 31  UFE.2    125 non-null    int64  \n",
            " 32  BPC.2    125 non-null    int64  \n",
            " 33  BPW.2    125 non-null    int64  \n",
            " 34  NPA.2    125 non-null    int64  \n",
            " 35  NPW.2    125 non-null    int64  \n",
            " 36  TPW.2    125 non-null    int64  \n",
            " 37  ST1.2    125 non-null    int64  \n",
            " 38  ST2.2    125 non-null    int64  \n",
            " 39  ST3.2    123 non-null    float64\n",
            " 40  ST4.2    51 non-null     float64\n",
            " 41  ST5.2    22 non-null     float64\n",
            "dtypes: float64(8), int64(32), object(2)\n",
            "memory usage: 41.1+ KB\n"
          ],
          "name": "stdout"
        }
      ]
    },
    {
      "cell_type": "code",
      "metadata": {
        "id": "b_1Je5Mlxqlg",
        "colab": {
          "base_uri": "https://localhost:8080/",
          "height": 349
        },
        "outputId": "c9aa6dc9-9e6a-4bec-d384-153be50ba2ae"
      },
      "source": [
        "df.head()"
      ],
      "execution_count": null,
      "outputs": [
        {
          "output_type": "execute_result",
          "data": {
            "text/html": [
              "<div>\n",
              "<style scoped>\n",
              "    .dataframe tbody tr th:only-of-type {\n",
              "        vertical-align: middle;\n",
              "    }\n",
              "\n",
              "    .dataframe tbody tr th {\n",
              "        vertical-align: top;\n",
              "    }\n",
              "\n",
              "    .dataframe thead th {\n",
              "        text-align: right;\n",
              "    }\n",
              "</style>\n",
              "<table border=\"1\" class=\"dataframe\">\n",
              "  <thead>\n",
              "    <tr style=\"text-align: right;\">\n",
              "      <th></th>\n",
              "      <th>Player1</th>\n",
              "      <th>Player2</th>\n",
              "      <th>Round</th>\n",
              "      <th>Result</th>\n",
              "      <th>FNL.1</th>\n",
              "      <th>FNL.2</th>\n",
              "      <th>FSP.1</th>\n",
              "      <th>FSW.1</th>\n",
              "      <th>SSP.1</th>\n",
              "      <th>SSW.1</th>\n",
              "      <th>ACE.1</th>\n",
              "      <th>DBF.1</th>\n",
              "      <th>WNR.1</th>\n",
              "      <th>UFE.1</th>\n",
              "      <th>BPC.1</th>\n",
              "      <th>BPW.1</th>\n",
              "      <th>NPA.1</th>\n",
              "      <th>NPW.1</th>\n",
              "      <th>TPW.1</th>\n",
              "      <th>ST1.1</th>\n",
              "      <th>ST2.1</th>\n",
              "      <th>ST3.1</th>\n",
              "      <th>ST4.1</th>\n",
              "      <th>ST5.1</th>\n",
              "      <th>FSP.2</th>\n",
              "      <th>FSW.2</th>\n",
              "      <th>SSP.2</th>\n",
              "      <th>SSW.2</th>\n",
              "      <th>ACE.2</th>\n",
              "      <th>DBF.2</th>\n",
              "      <th>WNR.2</th>\n",
              "      <th>UFE.2</th>\n",
              "      <th>BPC.2</th>\n",
              "      <th>BPW.2</th>\n",
              "      <th>NPA.2</th>\n",
              "      <th>NPW.2</th>\n",
              "      <th>TPW.2</th>\n",
              "      <th>ST1.2</th>\n",
              "      <th>ST2.2</th>\n",
              "      <th>ST3.2</th>\n",
              "      <th>ST4.2</th>\n",
              "      <th>ST5.2</th>\n",
              "    </tr>\n",
              "  </thead>\n",
              "  <tbody>\n",
              "    <tr>\n",
              "      <th>0</th>\n",
              "      <td>Pablo Carreno-Busta</td>\n",
              "      <td>Roger Federer</td>\n",
              "      <td>1</td>\n",
              "      <td>0</td>\n",
              "      <td>0</td>\n",
              "      <td>3</td>\n",
              "      <td>62</td>\n",
              "      <td>27</td>\n",
              "      <td>38</td>\n",
              "      <td>11</td>\n",
              "      <td>1</td>\n",
              "      <td>3.0</td>\n",
              "      <td>12</td>\n",
              "      <td>29</td>\n",
              "      <td>1</td>\n",
              "      <td>3</td>\n",
              "      <td>9</td>\n",
              "      <td>20</td>\n",
              "      <td>50</td>\n",
              "      <td>2</td>\n",
              "      <td>2</td>\n",
              "      <td>3.0</td>\n",
              "      <td>NaN</td>\n",
              "      <td>NaN</td>\n",
              "      <td>68</td>\n",
              "      <td>33</td>\n",
              "      <td>32</td>\n",
              "      <td>14</td>\n",
              "      <td>10</td>\n",
              "      <td>0.0</td>\n",
              "      <td>33</td>\n",
              "      <td>19</td>\n",
              "      <td>7</td>\n",
              "      <td>7</td>\n",
              "      <td>14</td>\n",
              "      <td>18</td>\n",
              "      <td>88</td>\n",
              "      <td>6</td>\n",
              "      <td>6</td>\n",
              "      <td>6.0</td>\n",
              "      <td>NaN</td>\n",
              "      <td>NaN</td>\n",
              "    </tr>\n",
              "    <tr>\n",
              "      <th>1</th>\n",
              "      <td>Somdev Devvarman</td>\n",
              "      <td>Daniel Munoz-De La Nava</td>\n",
              "      <td>1</td>\n",
              "      <td>1</td>\n",
              "      <td>3</td>\n",
              "      <td>0</td>\n",
              "      <td>62</td>\n",
              "      <td>54</td>\n",
              "      <td>38</td>\n",
              "      <td>22</td>\n",
              "      <td>7</td>\n",
              "      <td>3.0</td>\n",
              "      <td>26</td>\n",
              "      <td>20</td>\n",
              "      <td>5</td>\n",
              "      <td>8</td>\n",
              "      <td>12</td>\n",
              "      <td>21</td>\n",
              "      <td>120</td>\n",
              "      <td>6</td>\n",
              "      <td>6</td>\n",
              "      <td>7.0</td>\n",
              "      <td>NaN</td>\n",
              "      <td>NaN</td>\n",
              "      <td>52</td>\n",
              "      <td>35</td>\n",
              "      <td>48</td>\n",
              "      <td>24</td>\n",
              "      <td>0</td>\n",
              "      <td>2.0</td>\n",
              "      <td>40</td>\n",
              "      <td>47</td>\n",
              "      <td>1</td>\n",
              "      <td>16</td>\n",
              "      <td>22</td>\n",
              "      <td>25</td>\n",
              "      <td>106</td>\n",
              "      <td>3</td>\n",
              "      <td>3</td>\n",
              "      <td>5.0</td>\n",
              "      <td>NaN</td>\n",
              "      <td>NaN</td>\n",
              "    </tr>\n",
              "    <tr>\n",
              "      <th>2</th>\n",
              "      <td>Tobias Kamke</td>\n",
              "      <td>Paolo Lorenzi</td>\n",
              "      <td>1</td>\n",
              "      <td>1</td>\n",
              "      <td>3</td>\n",
              "      <td>2</td>\n",
              "      <td>62</td>\n",
              "      <td>53</td>\n",
              "      <td>38</td>\n",
              "      <td>15</td>\n",
              "      <td>4</td>\n",
              "      <td>6.0</td>\n",
              "      <td>42</td>\n",
              "      <td>55</td>\n",
              "      <td>10</td>\n",
              "      <td>22</td>\n",
              "      <td>14</td>\n",
              "      <td>32</td>\n",
              "      <td>140</td>\n",
              "      <td>6</td>\n",
              "      <td>6</td>\n",
              "      <td>3.0</td>\n",
              "      <td>0.0</td>\n",
              "      <td>6.0</td>\n",
              "      <td>46</td>\n",
              "      <td>42</td>\n",
              "      <td>54</td>\n",
              "      <td>31</td>\n",
              "      <td>6</td>\n",
              "      <td>8.0</td>\n",
              "      <td>39</td>\n",
              "      <td>54</td>\n",
              "      <td>10</td>\n",
              "      <td>18</td>\n",
              "      <td>19</td>\n",
              "      <td>27</td>\n",
              "      <td>139</td>\n",
              "      <td>3</td>\n",
              "      <td>3</td>\n",
              "      <td>6.0</td>\n",
              "      <td>6.0</td>\n",
              "      <td>3.0</td>\n",
              "    </tr>\n",
              "    <tr>\n",
              "      <th>3</th>\n",
              "      <td>Julien Benneteau</td>\n",
              "      <td>Ricardas Berankis</td>\n",
              "      <td>1</td>\n",
              "      <td>1</td>\n",
              "      <td>3</td>\n",
              "      <td>1</td>\n",
              "      <td>72</td>\n",
              "      <td>87</td>\n",
              "      <td>28</td>\n",
              "      <td>19</td>\n",
              "      <td>14</td>\n",
              "      <td>2.0</td>\n",
              "      <td>48</td>\n",
              "      <td>27</td>\n",
              "      <td>4</td>\n",
              "      <td>13</td>\n",
              "      <td>14</td>\n",
              "      <td>30</td>\n",
              "      <td>163</td>\n",
              "      <td>7</td>\n",
              "      <td>6</td>\n",
              "      <td>5.0</td>\n",
              "      <td>7.0</td>\n",
              "      <td>NaN</td>\n",
              "      <td>53</td>\n",
              "      <td>58</td>\n",
              "      <td>47</td>\n",
              "      <td>38</td>\n",
              "      <td>13</td>\n",
              "      <td>10.0</td>\n",
              "      <td>72</td>\n",
              "      <td>56</td>\n",
              "      <td>4</td>\n",
              "      <td>13</td>\n",
              "      <td>33</td>\n",
              "      <td>43</td>\n",
              "      <td>149</td>\n",
              "      <td>6</td>\n",
              "      <td>3</td>\n",
              "      <td>7.0</td>\n",
              "      <td>6.0</td>\n",
              "      <td>NaN</td>\n",
              "    </tr>\n",
              "    <tr>\n",
              "      <th>4</th>\n",
              "      <td>Lukas Lacko</td>\n",
              "      <td>Sam Querrey</td>\n",
              "      <td>1</td>\n",
              "      <td>0</td>\n",
              "      <td>0</td>\n",
              "      <td>3</td>\n",
              "      <td>52</td>\n",
              "      <td>31</td>\n",
              "      <td>48</td>\n",
              "      <td>22</td>\n",
              "      <td>4</td>\n",
              "      <td>4.0</td>\n",
              "      <td>21</td>\n",
              "      <td>24</td>\n",
              "      <td>1</td>\n",
              "      <td>1</td>\n",
              "      <td>3</td>\n",
              "      <td>5</td>\n",
              "      <td>72</td>\n",
              "      <td>3</td>\n",
              "      <td>4</td>\n",
              "      <td>4.0</td>\n",
              "      <td>NaN</td>\n",
              "      <td>NaN</td>\n",
              "      <td>58</td>\n",
              "      <td>39</td>\n",
              "      <td>42</td>\n",
              "      <td>19</td>\n",
              "      <td>10</td>\n",
              "      <td>1.0</td>\n",
              "      <td>42</td>\n",
              "      <td>37</td>\n",
              "      <td>4</td>\n",
              "      <td>7</td>\n",
              "      <td>12</td>\n",
              "      <td>13</td>\n",
              "      <td>93</td>\n",
              "      <td>6</td>\n",
              "      <td>6</td>\n",
              "      <td>6.0</td>\n",
              "      <td>NaN</td>\n",
              "      <td>NaN</td>\n",
              "    </tr>\n",
              "  </tbody>\n",
              "</table>\n",
              "</div>"
            ],
            "text/plain": [
              "               Player1                  Player2  Round  ...  ST3.2  ST4.2  ST5.2\n",
              "0  Pablo Carreno-Busta            Roger Federer      1  ...    6.0    NaN    NaN\n",
              "1     Somdev Devvarman  Daniel Munoz-De La Nava      1  ...    5.0    NaN    NaN\n",
              "2         Tobias Kamke            Paolo Lorenzi      1  ...    6.0    6.0    3.0\n",
              "3     Julien Benneteau        Ricardas Berankis      1  ...    7.0    6.0    NaN\n",
              "4          Lukas Lacko              Sam Querrey      1  ...    6.0    NaN    NaN\n",
              "\n",
              "[5 rows x 42 columns]"
            ]
          },
          "metadata": {
            "tags": []
          },
          "execution_count": 8
        }
      ]
    },
    {
      "cell_type": "code",
      "metadata": {
        "id": "ZojeS6wLipoS",
        "colab": {
          "base_uri": "https://localhost:8080/",
          "height": 298
        },
        "outputId": "3d444904-56c3-474a-9a1e-1fd5dfc34d51"
      },
      "source": [
        "dw.head()"
      ],
      "execution_count": null,
      "outputs": [
        {
          "output_type": "execute_result",
          "data": {
            "text/html": [
              "<div>\n",
              "<style scoped>\n",
              "    .dataframe tbody tr th:only-of-type {\n",
              "        vertical-align: middle;\n",
              "    }\n",
              "\n",
              "    .dataframe tbody tr th {\n",
              "        vertical-align: top;\n",
              "    }\n",
              "\n",
              "    .dataframe thead th {\n",
              "        text-align: right;\n",
              "    }\n",
              "</style>\n",
              "<table border=\"1\" class=\"dataframe\">\n",
              "  <thead>\n",
              "    <tr style=\"text-align: right;\">\n",
              "      <th></th>\n",
              "      <th>Player1</th>\n",
              "      <th>Player2</th>\n",
              "      <th>Round</th>\n",
              "      <th>Result</th>\n",
              "      <th>FNL.1</th>\n",
              "      <th>FNL.2</th>\n",
              "      <th>FSP.1</th>\n",
              "      <th>FSW.1</th>\n",
              "      <th>SSP.1</th>\n",
              "      <th>SSW.1</th>\n",
              "      <th>ACE.1</th>\n",
              "      <th>DBF.1</th>\n",
              "      <th>WNR.1</th>\n",
              "      <th>UFE.1</th>\n",
              "      <th>BPC.1</th>\n",
              "      <th>BPW.1</th>\n",
              "      <th>NPA.1</th>\n",
              "      <th>NPW.1</th>\n",
              "      <th>TPW.1</th>\n",
              "      <th>ST1.1</th>\n",
              "      <th>ST2.1</th>\n",
              "      <th>ST3.1</th>\n",
              "      <th>ST4.1</th>\n",
              "      <th>ST5.1</th>\n",
              "      <th>FSP.2</th>\n",
              "      <th>FSW.2</th>\n",
              "      <th>SSP.2</th>\n",
              "      <th>SSW.2</th>\n",
              "      <th>ACE.2</th>\n",
              "      <th>DBF.2</th>\n",
              "      <th>WNR.2</th>\n",
              "      <th>UFE.2</th>\n",
              "      <th>BPC.2</th>\n",
              "      <th>BPW.2</th>\n",
              "      <th>NPA.2</th>\n",
              "      <th>NPW.2</th>\n",
              "      <th>TPW.2</th>\n",
              "      <th>ST1.2</th>\n",
              "      <th>ST2.2</th>\n",
              "      <th>ST3.2</th>\n",
              "      <th>ST4.2</th>\n",
              "      <th>ST5.2</th>\n",
              "    </tr>\n",
              "  </thead>\n",
              "  <tbody>\n",
              "    <tr>\n",
              "      <th>0</th>\n",
              "      <td>Su-Wei Hsieh</td>\n",
              "      <td>Maria Sharapova</td>\n",
              "      <td>1</td>\n",
              "      <td>0</td>\n",
              "      <td>0</td>\n",
              "      <td>2</td>\n",
              "      <td>62</td>\n",
              "      <td>18</td>\n",
              "      <td>38</td>\n",
              "      <td>5</td>\n",
              "      <td>0.0</td>\n",
              "      <td>3.0</td>\n",
              "      <td>8</td>\n",
              "      <td>8</td>\n",
              "      <td>0</td>\n",
              "      <td>0</td>\n",
              "      <td>1</td>\n",
              "      <td>3</td>\n",
              "      <td>31</td>\n",
              "      <td>2</td>\n",
              "      <td>1.0</td>\n",
              "      <td>NaN</td>\n",
              "      <td>NaN</td>\n",
              "      <td>NaN</td>\n",
              "      <td>68</td>\n",
              "      <td>25</td>\n",
              "      <td>32</td>\n",
              "      <td>8</td>\n",
              "      <td>4.0</td>\n",
              "      <td>0.0</td>\n",
              "      <td>25</td>\n",
              "      <td>19</td>\n",
              "      <td>4</td>\n",
              "      <td>6</td>\n",
              "      <td>3</td>\n",
              "      <td>5</td>\n",
              "      <td>57</td>\n",
              "      <td>6</td>\n",
              "      <td>6.0</td>\n",
              "      <td>NaN</td>\n",
              "      <td>NaN</td>\n",
              "      <td>NaN</td>\n",
              "    </tr>\n",
              "    <tr>\n",
              "      <th>1</th>\n",
              "      <td>Eugenie Bouchard</td>\n",
              "      <td>Tsvetana Pironkova</td>\n",
              "      <td>1</td>\n",
              "      <td>1</td>\n",
              "      <td>2</td>\n",
              "      <td>0</td>\n",
              "      <td>57</td>\n",
              "      <td>23</td>\n",
              "      <td>43</td>\n",
              "      <td>17</td>\n",
              "      <td>3.0</td>\n",
              "      <td>1.0</td>\n",
              "      <td>37</td>\n",
              "      <td>21</td>\n",
              "      <td>4</td>\n",
              "      <td>10</td>\n",
              "      <td>16</td>\n",
              "      <td>20</td>\n",
              "      <td>71</td>\n",
              "      <td>6</td>\n",
              "      <td>7.0</td>\n",
              "      <td>NaN</td>\n",
              "      <td>NaN</td>\n",
              "      <td>NaN</td>\n",
              "      <td>66</td>\n",
              "      <td>28</td>\n",
              "      <td>34</td>\n",
              "      <td>6</td>\n",
              "      <td>1.0</td>\n",
              "      <td>2.0</td>\n",
              "      <td>13</td>\n",
              "      <td>21</td>\n",
              "      <td>1</td>\n",
              "      <td>3</td>\n",
              "      <td>4</td>\n",
              "      <td>8</td>\n",
              "      <td>48</td>\n",
              "      <td>1</td>\n",
              "      <td>6.0</td>\n",
              "      <td>NaN</td>\n",
              "      <td>NaN</td>\n",
              "      <td>NaN</td>\n",
              "    </tr>\n",
              "    <tr>\n",
              "      <th>2</th>\n",
              "      <td>Jie Zheng</td>\n",
              "      <td>Vesna Dolonc</td>\n",
              "      <td>1</td>\n",
              "      <td>1</td>\n",
              "      <td>2</td>\n",
              "      <td>0</td>\n",
              "      <td>76</td>\n",
              "      <td>30</td>\n",
              "      <td>24</td>\n",
              "      <td>5</td>\n",
              "      <td>1.0</td>\n",
              "      <td>0.0</td>\n",
              "      <td>25</td>\n",
              "      <td>13</td>\n",
              "      <td>4</td>\n",
              "      <td>12</td>\n",
              "      <td>4</td>\n",
              "      <td>5</td>\n",
              "      <td>70</td>\n",
              "      <td>6</td>\n",
              "      <td>6.0</td>\n",
              "      <td>NaN</td>\n",
              "      <td>NaN</td>\n",
              "      <td>NaN</td>\n",
              "      <td>76</td>\n",
              "      <td>35</td>\n",
              "      <td>24</td>\n",
              "      <td>6</td>\n",
              "      <td>0.0</td>\n",
              "      <td>3.0</td>\n",
              "      <td>20</td>\n",
              "      <td>25</td>\n",
              "      <td>0</td>\n",
              "      <td>4</td>\n",
              "      <td>14</td>\n",
              "      <td>20</td>\n",
              "      <td>56</td>\n",
              "      <td>4</td>\n",
              "      <td>1.0</td>\n",
              "      <td>NaN</td>\n",
              "      <td>NaN</td>\n",
              "      <td>NaN</td>\n",
              "    </tr>\n",
              "    <tr>\n",
              "      <th>3</th>\n",
              "      <td>Tamira Paszek</td>\n",
              "      <td>Melanie Oudin</td>\n",
              "      <td>1</td>\n",
              "      <td>0</td>\n",
              "      <td>0</td>\n",
              "      <td>2</td>\n",
              "      <td>59</td>\n",
              "      <td>16</td>\n",
              "      <td>41</td>\n",
              "      <td>8</td>\n",
              "      <td>2.0</td>\n",
              "      <td>6.0</td>\n",
              "      <td>21</td>\n",
              "      <td>38</td>\n",
              "      <td>6</td>\n",
              "      <td>15</td>\n",
              "      <td>2</td>\n",
              "      <td>4</td>\n",
              "      <td>66</td>\n",
              "      <td>4</td>\n",
              "      <td>3.0</td>\n",
              "      <td>NaN</td>\n",
              "      <td>NaN</td>\n",
              "      <td>NaN</td>\n",
              "      <td>63</td>\n",
              "      <td>27</td>\n",
              "      <td>37</td>\n",
              "      <td>9</td>\n",
              "      <td>0.0</td>\n",
              "      <td>3.0</td>\n",
              "      <td>24</td>\n",
              "      <td>29</td>\n",
              "      <td>8</td>\n",
              "      <td>13</td>\n",
              "      <td>5</td>\n",
              "      <td>8</td>\n",
              "      <td>78</td>\n",
              "      <td>6</td>\n",
              "      <td>6.0</td>\n",
              "      <td>NaN</td>\n",
              "      <td>NaN</td>\n",
              "      <td>NaN</td>\n",
              "    </tr>\n",
              "    <tr>\n",
              "      <th>4</th>\n",
              "      <td>Karin Knapp</td>\n",
              "      <td>Sloane Stephens</td>\n",
              "      <td>1</td>\n",
              "      <td>0</td>\n",
              "      <td>0</td>\n",
              "      <td>2</td>\n",
              "      <td>57</td>\n",
              "      <td>18</td>\n",
              "      <td>43</td>\n",
              "      <td>13</td>\n",
              "      <td>NaN</td>\n",
              "      <td>3.0</td>\n",
              "      <td>15</td>\n",
              "      <td>27</td>\n",
              "      <td>2</td>\n",
              "      <td>2</td>\n",
              "      <td>3</td>\n",
              "      <td>5</td>\n",
              "      <td>50</td>\n",
              "      <td>2</td>\n",
              "      <td>5.0</td>\n",
              "      <td>NaN</td>\n",
              "      <td>NaN</td>\n",
              "      <td>NaN</td>\n",
              "      <td>65</td>\n",
              "      <td>22</td>\n",
              "      <td>35</td>\n",
              "      <td>10</td>\n",
              "      <td>NaN</td>\n",
              "      <td>2.0</td>\n",
              "      <td>9</td>\n",
              "      <td>16</td>\n",
              "      <td>5</td>\n",
              "      <td>7</td>\n",
              "      <td>1</td>\n",
              "      <td>4</td>\n",
              "      <td>61</td>\n",
              "      <td>6</td>\n",
              "      <td>7.0</td>\n",
              "      <td>NaN</td>\n",
              "      <td>NaN</td>\n",
              "      <td>NaN</td>\n",
              "    </tr>\n",
              "  </tbody>\n",
              "</table>\n",
              "</div>"
            ],
            "text/plain": [
              "            Player1             Player2  Round  ...  ST3.2  ST4.2  ST5.2\n",
              "0      Su-Wei Hsieh     Maria Sharapova      1  ...    NaN    NaN    NaN\n",
              "1  Eugenie Bouchard  Tsvetana Pironkova      1  ...    NaN    NaN    NaN\n",
              "2         Jie Zheng        Vesna Dolonc      1  ...    NaN    NaN    NaN\n",
              "3     Tamira Paszek       Melanie Oudin      1  ...    NaN    NaN    NaN\n",
              "4       Karin Knapp     Sloane Stephens      1  ...    NaN    NaN    NaN\n",
              "\n",
              "[5 rows x 42 columns]"
            ]
          },
          "metadata": {
            "tags": []
          },
          "execution_count": 9
        }
      ]
    },
    {
      "cell_type": "markdown",
      "metadata": {
        "id": "xCY3Q-NT89db"
      },
      "source": [
        "Thw idea is to use both the left and the right half of each of the two datasets ( df and dw ) as this way we can double the number of observations, simply by taking into consideration the opponent of \"Player 1\""
      ]
    },
    {
      "cell_type": "code",
      "metadata": {
        "id": "9yVDfA1jyqKW"
      },
      "source": [
        "df1=df[['FSP.1',\t'FSW.1',\t'SSP.1',\t'SSW.1',\t'ACE.1',\t'DBF.1',\t'WNR.1', 'UFE.1', 'BPC.1',\t'BPW.1', 'NPA.1',\t'NPW.1']]"
      ],
      "execution_count": null,
      "outputs": []
    },
    {
      "cell_type": "code",
      "metadata": {
        "id": "bZUH5v_b7ADB"
      },
      "source": [
        "df2=df[['FSP.2', 'FSW.2',\t'SSP.2',\t'SSW.2',\t'ACE.2',\t'DBF.2',\t'WNR.2',\t'UFE.2',\t'BPC.2',\t'BPW.2',\t'NPA.2',\t'NPW.2']]"
      ],
      "execution_count": null,
      "outputs": []
    },
    {
      "cell_type": "code",
      "metadata": {
        "id": "rJyqDUev6D8x"
      },
      "source": [
        "dw1=dw[['FSP.1',\t'FSW.1',\t'SSP.1',\t'SSW.1',\t'ACE.1',\t'DBF.1',\t'WNR.1', 'UFE.1', 'BPC.1',\t'BPW.1', 'NPA.1',\t'NPW.1']]"
      ],
      "execution_count": null,
      "outputs": []
    },
    {
      "cell_type": "code",
      "metadata": {
        "id": "wgm0-vso6IPR"
      },
      "source": [
        "dw2=dw[['FSP.2', 'FSW.2',\t'SSP.2',\t'SSW.2',\t'ACE.2',\t'DBF.2',\t'WNR.2',\t'UFE.2',\t'BPC.2',\t'BPW.2',\t'NPA.2',\t'NPW.2']]"
      ],
      "execution_count": null,
      "outputs": []
    },
    {
      "cell_type": "code",
      "metadata": {
        "id": "-J3qNoTd6CB0"
      },
      "source": [
        "# for \"Player 2\" we want to swich the result columns in their corresponding dataset\n",
        "\n",
        "def returner(x):\n",
        "  if x==0:\n",
        "    return 1\n",
        "  else:\n",
        "    return 0"
      ],
      "execution_count": null,
      "outputs": []
    },
    {
      "cell_type": "code",
      "metadata": {
        "id": "_3I6uiv66Cev"
      },
      "source": [
        ""
      ],
      "execution_count": null,
      "outputs": []
    },
    {
      "cell_type": "code",
      "metadata": {
        "id": "vv7syl5-5uMm",
        "colab": {
          "base_uri": "https://localhost:8080/"
        },
        "outputId": "9909ce21-73ff-47f6-a192-ccc50634ebce"
      },
      "source": [
        "df1['result']=df.iloc[:,3]"
      ],
      "execution_count": null,
      "outputs": [
        {
          "output_type": "stream",
          "text": [
            "/usr/local/lib/python3.6/dist-packages/ipykernel_launcher.py:1: SettingWithCopyWarning: \n",
            "A value is trying to be set on a copy of a slice from a DataFrame.\n",
            "Try using .loc[row_indexer,col_indexer] = value instead\n",
            "\n",
            "See the caveats in the documentation: https://pandas.pydata.org/pandas-docs/stable/user_guide/indexing.html#returning-a-view-versus-a-copy\n",
            "  \"\"\"Entry point for launching an IPython kernel.\n"
          ],
          "name": "stderr"
        }
      ]
    },
    {
      "cell_type": "code",
      "metadata": {
        "id": "htVF4nVp54av",
        "colab": {
          "base_uri": "https://localhost:8080/"
        },
        "outputId": "5aca4756-77b1-4573-8266-c9b91ea4cdf5"
      },
      "source": [
        "df2['result']=df['Result'].apply(lambda x: returner(x))"
      ],
      "execution_count": null,
      "outputs": [
        {
          "output_type": "stream",
          "text": [
            "/usr/local/lib/python3.6/dist-packages/ipykernel_launcher.py:1: SettingWithCopyWarning: \n",
            "A value is trying to be set on a copy of a slice from a DataFrame.\n",
            "Try using .loc[row_indexer,col_indexer] = value instead\n",
            "\n",
            "See the caveats in the documentation: https://pandas.pydata.org/pandas-docs/stable/user_guide/indexing.html#returning-a-view-versus-a-copy\n",
            "  \"\"\"Entry point for launching an IPython kernel.\n"
          ],
          "name": "stderr"
        }
      ]
    },
    {
      "cell_type": "code",
      "metadata": {
        "id": "6lG_mP-45tXW",
        "colab": {
          "base_uri": "https://localhost:8080/"
        },
        "outputId": "58447727-57ba-4e30-9712-74da13afc980"
      },
      "source": [
        "dw1['result']=dw.iloc[:,3]"
      ],
      "execution_count": null,
      "outputs": [
        {
          "output_type": "stream",
          "text": [
            "/usr/local/lib/python3.6/dist-packages/ipykernel_launcher.py:1: SettingWithCopyWarning: \n",
            "A value is trying to be set on a copy of a slice from a DataFrame.\n",
            "Try using .loc[row_indexer,col_indexer] = value instead\n",
            "\n",
            "See the caveats in the documentation: https://pandas.pydata.org/pandas-docs/stable/user_guide/indexing.html#returning-a-view-versus-a-copy\n",
            "  \"\"\"Entry point for launching an IPython kernel.\n"
          ],
          "name": "stderr"
        }
      ]
    },
    {
      "cell_type": "code",
      "metadata": {
        "id": "iTyzHECp5zo2",
        "colab": {
          "base_uri": "https://localhost:8080/"
        },
        "outputId": "60727421-6808-48ea-d5cb-090d9f54d8f2"
      },
      "source": [
        "dw2['result']=dw['Result'].apply(lambda x: returner(x))"
      ],
      "execution_count": null,
      "outputs": [
        {
          "output_type": "stream",
          "text": [
            "/usr/local/lib/python3.6/dist-packages/ipykernel_launcher.py:1: SettingWithCopyWarning: \n",
            "A value is trying to be set on a copy of a slice from a DataFrame.\n",
            "Try using .loc[row_indexer,col_indexer] = value instead\n",
            "\n",
            "See the caveats in the documentation: https://pandas.pydata.org/pandas-docs/stable/user_guide/indexing.html#returning-a-view-versus-a-copy\n",
            "  \"\"\"Entry point for launching an IPython kernel.\n"
          ],
          "name": "stderr"
        }
      ]
    },
    {
      "cell_type": "code",
      "metadata": {
        "id": "6NLOP71r5ztp"
      },
      "source": [
        ""
      ],
      "execution_count": null,
      "outputs": []
    },
    {
      "cell_type": "code",
      "metadata": {
        "id": "wEXLQbbu6NCx"
      },
      "source": [
        "# dw1"
      ],
      "execution_count": null,
      "outputs": []
    },
    {
      "cell_type": "code",
      "metadata": {
        "id": "VX8eYOztXzQ2"
      },
      "source": [
        "# df1"
      ],
      "execution_count": null,
      "outputs": []
    },
    {
      "cell_type": "markdown",
      "metadata": {
        "id": "2Ohq-Cnc_s2r"
      },
      "source": [
        "We set universal names for the new columns, instead of them being particular to the player, such as ACE.1 or WNR.2"
      ]
    },
    {
      "cell_type": "code",
      "metadata": {
        "id": "t4mJIMs3hg4X"
      },
      "source": [
        "df1.set_axis(['FSP', 'FSW',\t'SSP',\t'SSW',\t'ACE',\t'DBF',\t'WNR',\t'UFE',\t'BPC',\t'BPW',\t'NPA',\t'NPW','result'],\n",
        "             axis=1,inplace=True)"
      ],
      "execution_count": null,
      "outputs": []
    },
    {
      "cell_type": "code",
      "metadata": {
        "id": "I-U1d6Fs6VT2"
      },
      "source": [
        "dw2.set_axis(['FSP', 'FSW',\t'SSP',\t'SSW',\t'ACE',\t'DBF',\t'WNR',\t'UFE',\t'BPC',\t'BPW',\t'NPA',\t'NPW','result'],\n",
        "             axis=1,inplace=True)"
      ],
      "execution_count": null,
      "outputs": []
    },
    {
      "cell_type": "code",
      "metadata": {
        "id": "9lUR7cI16Sn4"
      },
      "source": [
        "dw1.set_axis(['FSP', 'FSW',\t'SSP',\t'SSW',\t'ACE',\t'DBF',\t'WNR',\t'UFE',\t'BPC',\t'BPW',\t'NPA',\t'NPW','result'],\n",
        "             axis=1,inplace=True)"
      ],
      "execution_count": null,
      "outputs": []
    },
    {
      "cell_type": "code",
      "metadata": {
        "id": "Hs7lD0Ref3uI"
      },
      "source": [
        "df2.set_axis(['FSP', 'FSW',\t'SSP',\t'SSW',\t'ACE',\t'DBF',\t'WNR',\t'UFE',\t'BPC',\t'BPW',\t'NPA',\t'NPW','result'],\n",
        "             axis=1,inplace=True)"
      ],
      "execution_count": null,
      "outputs": []
    },
    {
      "cell_type": "code",
      "metadata": {
        "id": "YSGQ0f8nI_-S"
      },
      "source": [
        "# la df1 nu e nevoie sa schimbam indicii"
      ],
      "execution_count": null,
      "outputs": []
    },
    {
      "cell_type": "markdown",
      "metadata": {
        "id": "Ed5LDMZX_-Dm"
      },
      "source": [
        "We also need to adjust indices so that we can concatenate the dataframes later"
      ]
    },
    {
      "cell_type": "code",
      "metadata": {
        "id": "VieXfl4iI7ap"
      },
      "source": [
        "df2.set_axis([x for x in range(125,250)],axis=0,inplace=True)"
      ],
      "execution_count": null,
      "outputs": []
    },
    {
      "cell_type": "code",
      "metadata": {
        "id": "38lD9ZRG8wUU"
      },
      "source": [
        "dw1.set_axis([x for x in range(250,377)],axis=0,inplace=True)"
      ],
      "execution_count": null,
      "outputs": []
    },
    {
      "cell_type": "code",
      "metadata": {
        "id": "qD3MC5C-84dn"
      },
      "source": [
        "dw2.set_axis([x for x in range(377,504)],axis=0,inplace=True)"
      ],
      "execution_count": null,
      "outputs": []
    },
    {
      "cell_type": "code",
      "metadata": {
        "id": "twFRZllD9CXi"
      },
      "source": [
        "# dw2"
      ],
      "execution_count": null,
      "outputs": []
    },
    {
      "cell_type": "code",
      "metadata": {
        "id": "jdAoIRBzMSNv"
      },
      "source": [
        ""
      ],
      "execution_count": null,
      "outputs": []
    },
    {
      "cell_type": "code",
      "metadata": {
        "id": "KcC-hRyB6-Q0"
      },
      "source": [
        "dww=pd.concat([dw1,dw2],sort=False)\n",
        "# dww"
      ],
      "execution_count": null,
      "outputs": []
    },
    {
      "cell_type": "code",
      "metadata": {
        "id": "eX-1_ZgO7AKe"
      },
      "source": [
        "dff=pd.concat([df1,df2],sort=False)\n",
        "# dff"
      ],
      "execution_count": null,
      "outputs": []
    },
    {
      "cell_type": "code",
      "metadata": {
        "id": "m5VKWPu99Hr3"
      },
      "source": [
        "dataset=pd.concat([dff,dww],sort=False)"
      ],
      "execution_count": null,
      "outputs": []
    },
    {
      "cell_type": "markdown",
      "metadata": {
        "id": "GjWThANMAG-p"
      },
      "source": [
        "Finally, we have the dataset"
      ]
    },
    {
      "cell_type": "code",
      "metadata": {
        "id": "OgJbuhHL6bCz",
        "colab": {
          "base_uri": "https://localhost:8080/",
          "height": 399
        },
        "outputId": "ac5805e7-8621-48f0-e875-4ad0c5cc27e0"
      },
      "source": [
        "dataset"
      ],
      "execution_count": null,
      "outputs": [
        {
          "output_type": "execute_result",
          "data": {
            "text/html": [
              "<div>\n",
              "<style scoped>\n",
              "    .dataframe tbody tr th:only-of-type {\n",
              "        vertical-align: middle;\n",
              "    }\n",
              "\n",
              "    .dataframe tbody tr th {\n",
              "        vertical-align: top;\n",
              "    }\n",
              "\n",
              "    .dataframe thead th {\n",
              "        text-align: right;\n",
              "    }\n",
              "</style>\n",
              "<table border=\"1\" class=\"dataframe\">\n",
              "  <thead>\n",
              "    <tr style=\"text-align: right;\">\n",
              "      <th></th>\n",
              "      <th>FSP</th>\n",
              "      <th>FSW</th>\n",
              "      <th>SSP</th>\n",
              "      <th>SSW</th>\n",
              "      <th>ACE</th>\n",
              "      <th>DBF</th>\n",
              "      <th>WNR</th>\n",
              "      <th>UFE</th>\n",
              "      <th>BPC</th>\n",
              "      <th>BPW</th>\n",
              "      <th>NPA</th>\n",
              "      <th>NPW</th>\n",
              "      <th>result</th>\n",
              "    </tr>\n",
              "  </thead>\n",
              "  <tbody>\n",
              "    <tr>\n",
              "      <th>0</th>\n",
              "      <td>62</td>\n",
              "      <td>27</td>\n",
              "      <td>38</td>\n",
              "      <td>11</td>\n",
              "      <td>1.0</td>\n",
              "      <td>3.0</td>\n",
              "      <td>12</td>\n",
              "      <td>29</td>\n",
              "      <td>1</td>\n",
              "      <td>3</td>\n",
              "      <td>9</td>\n",
              "      <td>20</td>\n",
              "      <td>0</td>\n",
              "    </tr>\n",
              "    <tr>\n",
              "      <th>1</th>\n",
              "      <td>62</td>\n",
              "      <td>54</td>\n",
              "      <td>38</td>\n",
              "      <td>22</td>\n",
              "      <td>7.0</td>\n",
              "      <td>3.0</td>\n",
              "      <td>26</td>\n",
              "      <td>20</td>\n",
              "      <td>5</td>\n",
              "      <td>8</td>\n",
              "      <td>12</td>\n",
              "      <td>21</td>\n",
              "      <td>1</td>\n",
              "    </tr>\n",
              "    <tr>\n",
              "      <th>2</th>\n",
              "      <td>62</td>\n",
              "      <td>53</td>\n",
              "      <td>38</td>\n",
              "      <td>15</td>\n",
              "      <td>4.0</td>\n",
              "      <td>6.0</td>\n",
              "      <td>42</td>\n",
              "      <td>55</td>\n",
              "      <td>10</td>\n",
              "      <td>22</td>\n",
              "      <td>14</td>\n",
              "      <td>32</td>\n",
              "      <td>1</td>\n",
              "    </tr>\n",
              "    <tr>\n",
              "      <th>3</th>\n",
              "      <td>72</td>\n",
              "      <td>87</td>\n",
              "      <td>28</td>\n",
              "      <td>19</td>\n",
              "      <td>14.0</td>\n",
              "      <td>2.0</td>\n",
              "      <td>48</td>\n",
              "      <td>27</td>\n",
              "      <td>4</td>\n",
              "      <td>13</td>\n",
              "      <td>14</td>\n",
              "      <td>30</td>\n",
              "      <td>1</td>\n",
              "    </tr>\n",
              "    <tr>\n",
              "      <th>4</th>\n",
              "      <td>52</td>\n",
              "      <td>31</td>\n",
              "      <td>48</td>\n",
              "      <td>22</td>\n",
              "      <td>4.0</td>\n",
              "      <td>4.0</td>\n",
              "      <td>21</td>\n",
              "      <td>24</td>\n",
              "      <td>1</td>\n",
              "      <td>1</td>\n",
              "      <td>3</td>\n",
              "      <td>5</td>\n",
              "      <td>0</td>\n",
              "    </tr>\n",
              "    <tr>\n",
              "      <th>...</th>\n",
              "      <td>...</td>\n",
              "      <td>...</td>\n",
              "      <td>...</td>\n",
              "      <td>...</td>\n",
              "      <td>...</td>\n",
              "      <td>...</td>\n",
              "      <td>...</td>\n",
              "      <td>...</td>\n",
              "      <td>...</td>\n",
              "      <td>...</td>\n",
              "      <td>...</td>\n",
              "      <td>...</td>\n",
              "      <td>...</td>\n",
              "    </tr>\n",
              "    <tr>\n",
              "      <th>499</th>\n",
              "      <td>84</td>\n",
              "      <td>41</td>\n",
              "      <td>16</td>\n",
              "      <td>3</td>\n",
              "      <td>0.0</td>\n",
              "      <td>0.0</td>\n",
              "      <td>30</td>\n",
              "      <td>25</td>\n",
              "      <td>6</td>\n",
              "      <td>7</td>\n",
              "      <td>16</td>\n",
              "      <td>24</td>\n",
              "      <td>1</td>\n",
              "    </tr>\n",
              "    <tr>\n",
              "      <th>500</th>\n",
              "      <td>77</td>\n",
              "      <td>28</td>\n",
              "      <td>23</td>\n",
              "      <td>7</td>\n",
              "      <td>1.0</td>\n",
              "      <td>1.0</td>\n",
              "      <td>19</td>\n",
              "      <td>24</td>\n",
              "      <td>4</td>\n",
              "      <td>9</td>\n",
              "      <td>3</td>\n",
              "      <td>6</td>\n",
              "      <td>0</td>\n",
              "    </tr>\n",
              "    <tr>\n",
              "      <th>501</th>\n",
              "      <td>62</td>\n",
              "      <td>41</td>\n",
              "      <td>38</td>\n",
              "      <td>10</td>\n",
              "      <td>12.0</td>\n",
              "      <td>11.0</td>\n",
              "      <td>42</td>\n",
              "      <td>39</td>\n",
              "      <td>6</td>\n",
              "      <td>10</td>\n",
              "      <td>2</td>\n",
              "      <td>6</td>\n",
              "      <td>1</td>\n",
              "    </tr>\n",
              "    <tr>\n",
              "      <th>502</th>\n",
              "      <td>80</td>\n",
              "      <td>10</td>\n",
              "      <td>20</td>\n",
              "      <td>1</td>\n",
              "      <td>0.0</td>\n",
              "      <td>NaN</td>\n",
              "      <td>2</td>\n",
              "      <td>3</td>\n",
              "      <td>0</td>\n",
              "      <td>0</td>\n",
              "      <td>2</td>\n",
              "      <td>2</td>\n",
              "      <td>0</td>\n",
              "    </tr>\n",
              "    <tr>\n",
              "      <th>503</th>\n",
              "      <td>55</td>\n",
              "      <td>20</td>\n",
              "      <td>45</td>\n",
              "      <td>20</td>\n",
              "      <td>2.0</td>\n",
              "      <td>4.0</td>\n",
              "      <td>10</td>\n",
              "      <td>17</td>\n",
              "      <td>2</td>\n",
              "      <td>2</td>\n",
              "      <td>3</td>\n",
              "      <td>4</td>\n",
              "      <td>0</td>\n",
              "    </tr>\n",
              "  </tbody>\n",
              "</table>\n",
              "<p>504 rows × 13 columns</p>\n",
              "</div>"
            ],
            "text/plain": [
              "     FSP  FSW  SSP  SSW   ACE   DBF  WNR  UFE  BPC  BPW  NPA  NPW  result\n",
              "0     62   27   38   11   1.0   3.0   12   29    1    3    9   20       0\n",
              "1     62   54   38   22   7.0   3.0   26   20    5    8   12   21       1\n",
              "2     62   53   38   15   4.0   6.0   42   55   10   22   14   32       1\n",
              "3     72   87   28   19  14.0   2.0   48   27    4   13   14   30       1\n",
              "4     52   31   48   22   4.0   4.0   21   24    1    1    3    5       0\n",
              "..   ...  ...  ...  ...   ...   ...  ...  ...  ...  ...  ...  ...     ...\n",
              "499   84   41   16    3   0.0   0.0   30   25    6    7   16   24       1\n",
              "500   77   28   23    7   1.0   1.0   19   24    4    9    3    6       0\n",
              "501   62   41   38   10  12.0  11.0   42   39    6   10    2    6       1\n",
              "502   80   10   20    1   0.0   NaN    2    3    0    0    2    2       0\n",
              "503   55   20   45   20   2.0   4.0   10   17    2    2    3    4       0\n",
              "\n",
              "[504 rows x 13 columns]"
            ]
          },
          "metadata": {
            "tags": []
          },
          "execution_count": 33
        }
      ]
    },
    {
      "cell_type": "markdown",
      "metadata": {
        "id": "mv8uRScSAXwf"
      },
      "source": [
        "## EDA"
      ]
    },
    {
      "cell_type": "code",
      "metadata": {
        "id": "bA9DVetS6fq0",
        "colab": {
          "base_uri": "https://localhost:8080/"
        },
        "outputId": "dabf6ef9-ac77-4e53-c70c-6b346d1058d5"
      },
      "source": [
        "type(dataset)"
      ],
      "execution_count": null,
      "outputs": [
        {
          "output_type": "execute_result",
          "data": {
            "text/plain": [
              "pandas.core.frame.DataFrame"
            ]
          },
          "metadata": {
            "tags": []
          },
          "execution_count": 34
        }
      ]
    },
    {
      "cell_type": "code",
      "metadata": {
        "id": "RhuXIBfd6eIL",
        "colab": {
          "base_uri": "https://localhost:8080/"
        },
        "outputId": "85980bfe-6643-4f72-8d66-e36186f82090"
      },
      "source": [
        "dataset.dtypes"
      ],
      "execution_count": null,
      "outputs": [
        {
          "output_type": "execute_result",
          "data": {
            "text/plain": [
              "FSP         int64\n",
              "FSW         int64\n",
              "SSP         int64\n",
              "SSW         int64\n",
              "ACE       float64\n",
              "DBF       float64\n",
              "WNR         int64\n",
              "UFE         int64\n",
              "BPC         int64\n",
              "BPW         int64\n",
              "NPA         int64\n",
              "NPW         int64\n",
              "result      int64\n",
              "dtype: object"
            ]
          },
          "metadata": {
            "tags": []
          },
          "execution_count": 35
        }
      ]
    },
    {
      "cell_type": "code",
      "metadata": {
        "id": "ggyMTLYxIklk",
        "colab": {
          "base_uri": "https://localhost:8080/"
        },
        "outputId": "66ebb68f-ba4b-4ad2-bec0-500977929170"
      },
      "source": [
        "dataset.isnull().sum()"
      ],
      "execution_count": null,
      "outputs": [
        {
          "output_type": "execute_result",
          "data": {
            "text/plain": [
              "FSP        0\n",
              "FSW        0\n",
              "SSP        0\n",
              "SSW        0\n",
              "ACE       26\n",
              "DBF       10\n",
              "WNR        0\n",
              "UFE        0\n",
              "BPC        0\n",
              "BPW        0\n",
              "NPA        0\n",
              "NPW        0\n",
              "result     0\n",
              "dtype: int64"
            ]
          },
          "metadata": {
            "tags": []
          },
          "execution_count": 36
        }
      ]
    },
    {
      "cell_type": "markdown",
      "metadata": {
        "id": "E1JWFMUmApUD"
      },
      "source": [
        "Visualizing the null values"
      ]
    },
    {
      "cell_type": "code",
      "metadata": {
        "id": "rjjQabFD5CCC",
        "colab": {
          "base_uri": "https://localhost:8080/",
          "height": 302
        },
        "outputId": "f0abdf38-e32e-46ab-856c-b5fdaae9032f"
      },
      "source": [
        "sns.heatmap(dataset.isnull(),cmap='viridis',yticklabels=False,cbar=False)"
      ],
      "execution_count": null,
      "outputs": [
        {
          "output_type": "execute_result",
          "data": {
            "text/plain": [
              "<matplotlib.axes._subplots.AxesSubplot at 0x7f5fc8452d68>"
            ]
          },
          "metadata": {
            "tags": []
          },
          "execution_count": 37
        },
        {
          "output_type": "display_data",
          "data": {
            "image/png": "[encoded data removed]",
            "text/plain": [
              "<Figure size 432x288 with 1 Axes>"
            ]
          },
          "metadata": {
            "tags": [],
            "needs_background": "light"
          }
        }
      ]
    },
    {
      "cell_type": "markdown",
      "metadata": {
        "id": "nWS1wbwNA4Ll"
      },
      "source": [
        "Having only two problematic columns, we'll avoid using a SimpleImputer as that would return an numpy.ndarray, and we will continue to use the dataset as a pandas.DataFrame for a short while"
      ]
    },
    {
      "cell_type": "code",
      "metadata": {
        "id": "LBNhwP6NINDw",
        "colab": {
          "base_uri": "https://localhost:8080/",
          "height": 36
        },
        "outputId": "8368e295-8f01-4025-914f-20b011b1d4ac"
      },
      "source": [
        "'''\n",
        "from sklearn.impute import SimpleImputer\n",
        "imputer=SimpleImputer(strategy='mean')\n",
        "df1=imputer.fit_transform(dataset)\n",
        "'''"
      ],
      "execution_count": null,
      "outputs": [
        {
          "output_type": "execute_result",
          "data": {
            "application/vnd.google.colaboratory.intrinsic+json": {
              "type": "string"
            },
            "text/plain": [
              "\"\\nfrom sklearn.impute import SimpleImputer\\nimputer=SimpleImputer(strategy='mean')\\ndf1=imputer.fit_transform(dataset)\\n\""
            ]
          },
          "metadata": {
            "tags": []
          },
          "execution_count": 38
        }
      ]
    },
    {
      "cell_type": "markdown",
      "metadata": {
        "id": "0bYulvpCBZ1j"
      },
      "source": [
        "For the missing values we'll impute the mean of their respective columns "
      ]
    },
    {
      "cell_type": "code",
      "metadata": {
        "id": "AK1O4IUFMDtH"
      },
      "source": [
        "dataset['DBF']=dataset['DBF'].fillna(dataset['DBF'].mean())"
      ],
      "execution_count": null,
      "outputs": []
    },
    {
      "cell_type": "code",
      "metadata": {
        "id": "PQOJSJIo67yf"
      },
      "source": [
        "dataset['ACE']=dataset['ACE'].fillna(dataset['ACE'].mean())"
      ],
      "execution_count": null,
      "outputs": []
    },
    {
      "cell_type": "markdown",
      "metadata": {
        "id": "k_FN0m48EFmr"
      },
      "source": [
        "Let's find out what feature is the most correlated to success"
      ]
    },
    {
      "cell_type": "code",
      "metadata": {
        "id": "D0tUzaF-4e8W",
        "colab": {
          "base_uri": "https://localhost:8080/",
          "height": 298
        },
        "outputId": "d903fac1-5970-4666-c8b3-6d342ed1412c"
      },
      "source": [
        "dataset.corr()['result'][:-1].sort_values().plot(kind='bar')"
      ],
      "execution_count": null,
      "outputs": [
        {
          "output_type": "execute_result",
          "data": {
            "text/plain": [
              "<matplotlib.axes._subplots.AxesSubplot at 0x7f5fc56e6fd0>"
            ]
          },
          "metadata": {
            "tags": []
          },
          "execution_count": 41
        },
        {
          "output_type": "display_data",
          "data": {
            "image/png": "[encoded data removed]",
            "text/plain": [
              "<Figure size 432x288 with 1 Axes>"
            ]
          },
          "metadata": {
            "tags": [],
            "needs_background": "light"
          }
        }
      ]
    },
    {
      "cell_type": "markdown",
      "metadata": {
        "id": "jaVam5R9EL0N"
      },
      "source": [
        "It makes sense that creating and converting break point chances results in a victory. So does having a lower ammount of Unforced Errors.\n",
        "\n",
        "What is more interesting is that following closely behind are number of winners and aces, which suggest that adopting a more aggressive strategy often leads to success."
      ]
    },
    {
      "cell_type": "code",
      "metadata": {
        "id": "Cvtlz9dIKkbI",
        "colab": {
          "base_uri": "https://localhost:8080/",
          "height": 352
        },
        "outputId": "47cc88f9-d84f-4281-ba22-586165186520"
      },
      "source": [
        "sns.distplot(dataset['ACE'],bins=50,kde=False)"
      ],
      "execution_count": null,
      "outputs": [
        {
          "output_type": "stream",
          "text": [
            "/usr/local/lib/python3.6/dist-packages/seaborn/distributions.py:2551: FutureWarning: `distplot` is a deprecated function and will be removed in a future version. Please adapt your code to use either `displot` (a figure-level function with similar flexibility) or `histplot` (an axes-level function for histograms).\n",
            "  warnings.warn(msg, FutureWarning)\n"
          ],
          "name": "stderr"
        },
        {
          "output_type": "execute_result",
          "data": {
            "text/plain": [
              "<matplotlib.axes._subplots.AxesSubplot at 0x7f5fc565c208>"
            ]
          },
          "metadata": {
            "tags": []
          },
          "execution_count": 42
        },
        {
          "output_type": "display_data",
          "data": {
            "image/png": "[encoded data removed]",
            "text/plain": [
              "<Figure size 432x288 with 1 Axes>"
            ]
          },
          "metadata": {
            "tags": [],
            "needs_background": "light"
          }
        }
      ]
    },
    {
      "cell_type": "markdown",
      "metadata": {
        "id": "a8cDUai9L62z"
      },
      "source": [
        "The distplot above shows that we dont't exactly have a normal distribution of aces.\n",
        "\n",
        "With the majority of players managing between 1 and 10,the ace remains a game-changing weapon."
      ]
    },
    {
      "cell_type": "code",
      "metadata": {
        "id": "plpaYBphQc94",
        "colab": {
          "base_uri": "https://localhost:8080/",
          "height": 459
        },
        "outputId": "ec51f9b7-6def-471f-adb9-fe21a2f02631"
      },
      "source": [
        "sns.jointplot(x=dataset['WNR'],y=dataset['UFE'],data=dataset)"
      ],
      "execution_count": null,
      "outputs": [
        {
          "output_type": "execute_result",
          "data": {
            "text/plain": [
              "<seaborn.axisgrid.JointGrid at 0x7f5fc845f908>"
            ]
          },
          "metadata": {
            "tags": []
          },
          "execution_count": 43
        },
        {
          "output_type": "display_data",
          "data": {
            "image/png": "[encoded data removed]",
            "text/plain": [
              "<Figure size 432x432 with 3 Axes>"
            ]
          },
          "metadata": {
            "tags": [],
            "needs_background": "light"
          }
        }
      ]
    },
    {
      "cell_type": "markdown",
      "metadata": {
        "id": "Ix4z53WOQnxf"
      },
      "source": [
        "There is a linear dependence between the number of Winners and that of Unforced Errors. And it makes sense.\n",
        "\n",
        "However, there is a lesson in this graph. It is better to take risks than wonder what it could have been.\n",
        "\n",
        "As Theodore Roosevelt stated: \"if he fails, at least fails while daring greatly, so that his place shall never be with those cold and timid souls who neither know victory nor defeat.”\n"
      ]
    },
    {
      "cell_type": "markdown",
      "metadata": {
        "id": "GLoCgy_gGBDN"
      },
      "source": [
        "## PCA"
      ]
    },
    {
      "cell_type": "markdown",
      "metadata": {
        "id": "BLzGQ0oyGECW"
      },
      "source": [
        "Our dataset has 12 features, making in impossible to be illustrated in its \"raw\" form.\n",
        "\n",
        "In order to visualize the data in 2D we'll use Principal Component Analysis. \n",
        "\n",
        "PCA finds a new set of dimensions such that all the dimensions are orthogonal( and hence independent) and ranked according to the variance of data along them.\n",
        "\n",
        "First, we must scale our values:"
      ]
    },
    {
      "cell_type": "code",
      "metadata": {
        "id": "ZJxZEF49CznA"
      },
      "source": [
        "from sklearn.preprocessing import StandardScaler\n",
        "scaler=StandardScaler()\n",
        "dataset.iloc[:,0:12]=scaler.fit_transform(dataset.iloc[:,0:12])"
      ],
      "execution_count": null,
      "outputs": []
    },
    {
      "cell_type": "markdown",
      "metadata": {
        "id": "zl2FPoclmUxq"
      },
      "source": [
        "Then we apply the PCA algorithm:"
      ]
    },
    {
      "cell_type": "code",
      "metadata": {
        "id": "2qQ_44gJL-Nn"
      },
      "source": [
        "from sklearn.decomposition import PCA\n",
        "pca=PCA(n_components=2)\n",
        "x_pca=pca.fit_transform(dataset.iloc[:,0:12])"
      ],
      "execution_count": null,
      "outputs": []
    },
    {
      "cell_type": "code",
      "metadata": {
        "id": "CKjdEl4gOWsu",
        "colab": {
          "base_uri": "https://localhost:8080/"
        },
        "outputId": "99c23d9f-1e2b-4691-ca66-4dbfe4c34962"
      },
      "source": [
        "dataset.iloc[:,0:12].shape"
      ],
      "execution_count": null,
      "outputs": [
        {
          "output_type": "execute_result",
          "data": {
            "text/plain": [
              "(504, 12)"
            ]
          },
          "metadata": {
            "tags": []
          },
          "execution_count": 46
        }
      ]
    },
    {
      "cell_type": "code",
      "metadata": {
        "id": "DJlyJQ_pRBzP",
        "colab": {
          "base_uri": "https://localhost:8080/"
        },
        "outputId": "92af49cc-53db-4e44-976f-88d0de749d33"
      },
      "source": [
        "x_pca.shape"
      ],
      "execution_count": null,
      "outputs": [
        {
          "output_type": "execute_result",
          "data": {
            "text/plain": [
              "(504, 2)"
            ]
          },
          "metadata": {
            "tags": []
          },
          "execution_count": 47
        }
      ]
    },
    {
      "cell_type": "markdown",
      "metadata": {
        "id": "M4PBNO43mks7"
      },
      "source": [
        "Visualizing the two newly found components:\n",
        "\n",
        "--> violet meaning defeat\n",
        "\n",
        "--> yellow meaning victory"
      ]
    },
    {
      "cell_type": "code",
      "metadata": {
        "id": "yEhOhKRIRDT2",
        "colab": {
          "base_uri": "https://localhost:8080/",
          "height": 406
        },
        "outputId": "ed6f1c2f-f3ac-4a03-df4c-ece516573044"
      },
      "source": [
        "plt.figure(figsize=(8,6))\n",
        "plt.scatter(x_pca[:,0],x_pca[:,1],c=dataset['result'])\n",
        "plt.xlabel('First Principal Component')\n",
        "plt.ylabel('Second Principal Component')\n",
        "\n",
        "# violet meaning defeat"
      ],
      "execution_count": null,
      "outputs": [
        {
          "output_type": "execute_result",
          "data": {
            "text/plain": [
              "Text(0, 0.5, 'Second Principal Component')"
            ]
          },
          "metadata": {
            "tags": []
          },
          "execution_count": 48
        },
        {
          "output_type": "display_data",
          "data": {
            "image/png": "[encoded data removed]",
            "text/plain": [
              "<Figure size 576x432 with 1 Axes>"
            ]
          },
          "metadata": {
            "tags": [],
            "needs_background": "light"
          }
        }
      ]
    },
    {
      "cell_type": "markdown",
      "metadata": {
        "id": "sysWOeWHm3eM"
      },
      "source": [
        "\"pca.components_\" has the meaning of each principal component, essentially how it was derived\n",
        "\n"
      ]
    },
    {
      "cell_type": "code",
      "metadata": {
        "id": "-dcefz1lSIlg",
        "colab": {
          "base_uri": "https://localhost:8080/"
        },
        "outputId": "f2f92542-9c65-4fc7-a81a-ed45c5c6dd4c"
      },
      "source": [
        "pca.components_\n",
        "\n",
        "# 'FSP', 'FSW',\t'SSP',\t'SSW',\t'ACE',\t'DBF',\t'WNR',\t'UFE',\t'BPC',\t'BPW',\t'NPA',\t'NPW'"
      ],
      "execution_count": null,
      "outputs": [
        {
          "output_type": "execute_result",
          "data": {
            "text/plain": [
              "array([[-0.08908506,  0.35870543,  0.08908506,  0.36466661,  0.28904096,\n",
              "         0.16340236,  0.39939219,  0.32735648,  0.1631661 ,  0.23890282,\n",
              "         0.3628752 ,  0.36080306],\n",
              "       [ 0.62337267,  0.22316073, -0.62337267, -0.16719224,  0.03772465,\n",
              "        -0.28365683,  0.07829548, -0.08153455,  0.11133606,  0.13028402,\n",
              "         0.11535098,  0.08787018]])"
            ]
          },
          "metadata": {
            "tags": []
          },
          "execution_count": 49
        }
      ]
    },
    {
      "cell_type": "markdown",
      "metadata": {
        "id": "DBvF9RPhhuOb"
      },
      "source": [
        "We can't really make much sense of those values above, so maybe it fill help to visualize them in a more appealing way. And further below we got just the solution how:"
      ]
    },
    {
      "cell_type": "code",
      "metadata": {
        "id": "8B97i_xxTfaj"
      },
      "source": [
        "df_comp=pd.DataFrame(pca.components_,columns=dataset.iloc[:,0:12].columns)"
      ],
      "execution_count": null,
      "outputs": []
    },
    {
      "cell_type": "code",
      "metadata": {
        "id": "ESxlZr6GT3GX",
        "colab": {
          "base_uri": "https://localhost:8080/",
          "height": 392
        },
        "outputId": "02d99d77-30d2-4ce2-f130-2b1469f5c170"
      },
      "source": [
        "plt.figure(figsize=(8,6))\n",
        "sns.heatmap(df_comp,cmap='plasma')\n",
        "\n",
        "# cu cat contribuie fiecare coloana la componenta respectiva, de revazut videoclipul StatQuest"
      ],
      "execution_count": null,
      "outputs": [
        {
          "output_type": "execute_result",
          "data": {
            "text/plain": [
              "<matplotlib.axes._subplots.AxesSubplot at 0x7f5fc4902cc0>"
            ]
          },
          "metadata": {
            "tags": []
          },
          "execution_count": 51
        },
        {
          "output_type": "display_data",
          "data": {
            "image/png": "[encoded data removed]",
            "text/plain": [
              "<Figure size 576x432 with 2 Axes>"
            ]
          },
          "metadata": {
            "tags": [],
            "needs_background": "light"
          }
        }
      ]
    },
    {
      "cell_type": "markdown",
      "metadata": {
        "id": "LJk9K7B9iGHg"
      },
      "source": [
        "Meaning the first PC (PC0) is composed by significant portions of the features: WNR, UFE, SSW and NPA, NPw\n",
        "\n",
        "On the other end, a high value of the second PC indicates a high FSP and a low SSP, and vice versa."
      ]
    },
    {
      "cell_type": "markdown",
      "metadata": {
        "id": "utpf50lUmGJx"
      },
      "source": [
        "## Finding the number of clusters"
      ]
    },
    {
      "cell_type": "markdown",
      "metadata": {
        "id": "DuGBuvClmOQa"
      },
      "source": [
        "As it's the case, regardless the domain, having real life experiece goes a long way in making a machine learning project. It is common knowlede that there are 4 main types of tennis players.\n",
        "\n",
        "Let's see if we can draw a similar conclusion from our dataset: \n",
        "\n",
        "We'll make us of both dendrograms as well as The Elbow Method( judged by Within_Cluster_Sum_Of_Square"
      ]
    },
    {
      "cell_type": "code",
      "metadata": {
        "id": "1kIV-gjU_XKR"
      },
      "source": [
        "from sklearn.cluster import KMeans\n",
        "wcss=[]\n",
        "for i in range(1,11):\n",
        "  kmeans=KMeans(n_clusters=i, init='k-means++')\n",
        "  kmeans.fit(x_pca)\n",
        "  wcss.append(kmeans.inertia_)"
      ],
      "execution_count": null,
      "outputs": []
    },
    {
      "cell_type": "code",
      "metadata": {
        "id": "CXyQr97l_XFt",
        "colab": {
          "base_uri": "https://localhost:8080/",
          "height": 283
        },
        "outputId": "b0759f6d-204a-4c07-9346-4ec3a4a4d110"
      },
      "source": [
        "plt.plot(range(1,11),wcss)"
      ],
      "execution_count": null,
      "outputs": [
        {
          "output_type": "execute_result",
          "data": {
            "text/plain": [
              "[<matplotlib.lines.Line2D at 0x7f5fbddd07f0>]"
            ]
          },
          "metadata": {
            "tags": []
          },
          "execution_count": 53
        },
        {
          "output_type": "display_data",
          "data": {
            "image/png": "[encoded data removed]",
            "text/plain": [
              "<Figure size 432x288 with 1 Axes>"
            ]
          },
          "metadata": {
            "tags": [],
            "needs_background": "light"
          }
        }
      ]
    },
    {
      "cell_type": "markdown",
      "metadata": {
        "id": "etYSiCwgnPwL"
      },
      "source": [
        "Aaaand Yes!\n",
        "Looking for the k value, represented on the horizontal axis, we see taht for a k equal to 4, there isn't a significand drop in wcss anymore."
      ]
    },
    {
      "cell_type": "markdown",
      "metadata": {
        "id": "WqKR6Vtfn2EG"
      },
      "source": [
        "For a second opinion, however, let's check the result of the associated dendrogram:"
      ]
    },
    {
      "cell_type": "code",
      "metadata": {
        "id": "28dRXV9TxtfQ"
      },
      "source": [
        "import scipy.cluster.hierarchy as sch"
      ],
      "execution_count": null,
      "outputs": []
    },
    {
      "cell_type": "code",
      "metadata": {
        "id": "fdTCNeL_xtkc",
        "colab": {
          "base_uri": "https://localhost:8080/",
          "height": 265
        },
        "outputId": "81623eb7-44e3-4593-fd4a-1e8306409167"
      },
      "source": [
        "dendrogram=sch.dendrogram(sch.linkage(dataset.iloc[:,0:12],method='ward'))\n",
        "\n",
        "# chosen method to minimize the variance inside the cluster"
      ],
      "execution_count": null,
      "outputs": [
        {
          "output_type": "display_data",
          "data": {
            "image/png": "[encoded data removed]",
            "text/plain": [
              "<Figure size 432x288 with 1 Axes>"
            ]
          },
          "metadata": {
            "tags": [],
            "needs_background": "light"
          }
        }
      ]
    },
    {
      "cell_type": "markdown",
      "metadata": {
        "id": "eA_yova2n_Cd"
      },
      "source": [
        "Looking for the largest vetical distance without overlapping any of the horizontal lines, it would mean that only 2 clusters is the way to\n",
        "\n",
        "We cannot agree with this, but it is an interestring observation."
      ]
    },
    {
      "cell_type": "markdown",
      "metadata": {
        "id": "CUkWdQi9yKtc"
      },
      "source": [
        "## KMeans Algorithm from scratch"
      ]
    },
    {
      "cell_type": "markdown",
      "metadata": {
        "id": "jDhvNYkxzRgn"
      },
      "source": [
        "The steps we are going to go through are as follows:\n",
        "\n",
        "1. Decide the number K of clusters\n",
        "\n",
        "2. Select at random K points, the centroids ( not necesarily from your dataset )\n",
        "\n",
        "3. Assign each data point to the closest centroid ( thus forming K clusters ) \n",
        "\n",
        "4. Arange the data points so that each belongs to the closest centroid's cluster\n",
        "\n",
        "5. Compute the new centroids and repeat #4 and #5 until no reassignment is made"
      ]
    },
    {
      "cell_type": "markdown",
      "metadata": {
        "id": "Fh373k2e20Xb"
      },
      "source": [
        "Calculating euclidean distance between n-dimensional points:"
      ]
    },
    {
      "cell_type": "code",
      "metadata": {
        "id": "ivJhTL8T2-_4"
      },
      "source": [
        "def euclidean_distance(x1, x2):\n",
        "    return np.sqrt(np.sum((x1 - x2)**2))"
      ],
      "execution_count": null,
      "outputs": []
    },
    {
      "cell_type": "markdown",
      "metadata": {
        "id": "CWkQvNnbWRSa"
      },
      "source": [
        "The algorithm below is the concept of the Youtuber Patrick Loeber \"Python Engineer\":https://www.youtube.com/channel/UCbXgNpp0jedKWcQiULLbDTA"
      ]
    },
    {
      "cell_type": "markdown",
      "metadata": {
        "id": "VxhF-0EaXvBZ"
      },
      "source": [
        "Let's give a more in depth explanation on how it works:"
      ]
    },
    {
      "cell_type": "code",
      "metadata": {
        "id": "_Wn51nwj_W7E"
      },
      "source": [
        "np.random.seed(101)\n",
        "\n",
        "class KMeans():\n",
        "\n",
        "    def __init__(self, K=5, max_iters=100, plot_steps=False):\n",
        "        self.K = K\n",
        "        self.max_iters = max_iters\n",
        "        self.plot_steps = plot_steps\n",
        "\n",
        "        # list of sample indices for each cluster\n",
        "        self.clusters = [[] for _ in range(self.K)]\n",
        "        # the centers (mean feature vector) for each cluster\n",
        "        self.centroids = []\n",
        "\n",
        "    def predict(self, X):\n",
        "        self.X = X\n",
        "        self.n_samples, self.n_features = X.shape\n",
        "        \n",
        "        # np.random.choice() returns random samples from a given 1-D array, the number pf \n",
        "        # these random samples is reffered to as the second argument\n",
        "        random_sample_idxs = np.random.choice(self.n_samples, self.K, replace=False)\n",
        "\n",
        "        #now we make a list which contains the samples that represent the centroids\n",
        "        self.centroids = [self.X[idx] for idx in random_sample_idxs]\n",
        "\n",
        "        for _ in range(self.max_iters):\n",
        "            # Assign samples to closest centroids \n",
        "            self.clusters = self._create_clusters(self.centroids)\n",
        "            \n",
        "            # Calculate new centroids from the clusters\n",
        "            centroids_old = self.centroids\n",
        "            self.centroids = self._get_centroids(self.clusters)\n",
        "            \n",
        "            # check if clusters have changed\n",
        "            if self._is_converged(centroids_old, self.centroids):\n",
        "                break\n",
        "\n",
        "        \n",
        "        # Classify samples as the index of their clusters\n",
        "        return self._get_cluster_labels(self.clusters)\n",
        "\n",
        "\n",
        "    def _get_cluster_labels(self, clusters):\n",
        "        # each sample will get the label of the cluster it was assigned to\n",
        "        labels = np.empty(self.n_samples)\n",
        "\n",
        "        for cluster_idx, cluster in enumerate(clusters):\n",
        "            for sample_index in cluster:\n",
        "                labels[sample_index] = cluster_idx\n",
        "        return labels\n",
        "\n",
        "    def _create_clusters(self, centroids):\n",
        "        # Assign the samples to the closest centroids to create clusters\n",
        "        clusters = [[] for _ in range(self.K)]\n",
        "        for idx, sample in enumerate(self.X):\n",
        "            centroid_idx = self._closest_centroid(sample, centroids)\n",
        "            clusters[centroid_idx].append(idx)\n",
        "        return clusters\n",
        "\n",
        "    def _closest_centroid(self, sample, centroids):\n",
        "        # distance of the current sample to each centroid\n",
        "        distances = [euclidean_distance(sample, point) for point in centroids]\n",
        "        closest_index = np.argmin(distances)\n",
        "        return closest_index\n",
        "\n",
        "    def _get_centroids(self, clusters):\n",
        "        # assign mean value of clusters to centroids\n",
        "        centroids = np.zeros((self.K, self.n_features))\n",
        "        for cluster_idx, cluster in enumerate(clusters):\n",
        "            cluster_mean = np.mean(self.X[cluster], axis=0)\n",
        "            centroids[cluster_idx] = cluster_mean\n",
        "        return centroids\n",
        "\n",
        "    def _is_converged(self, centroids_old, centroids):\n",
        "        # distances between each old and new centroids, fol all centroids\n",
        "        distances = [euclidean_distance(centroids_old[i], centroids[i]) for i in range(self.K)]\n",
        "        return sum(distances) == 0\n",
        "\n",
        "    def plot(self):\n",
        "        fig, ax = plt.subplots(figsize=(12, 8))\n",
        "\n",
        "        for i, index in enumerate(self.clusters):\n",
        "            point = self.X[index].T\n",
        "            ax.scatter(*point)\n",
        "\n",
        "        for point in self.centroids:\n",
        "            ax.scatter(*point, marker=\"x\", color='black', linewidth=2)\n",
        "\n",
        "        plt.show()"
      ],
      "execution_count": null,
      "outputs": []
    },
    {
      "cell_type": "code",
      "metadata": {
        "id": "ckcayNBnHg_J",
        "colab": {
          "base_uri": "https://localhost:8080/",
          "height": 483
        },
        "outputId": "2140d540-6def-400a-feef-2264621a82f0"
      },
      "source": [
        "import numpy as np\n",
        "from sklearn.datasets import make_blobs\n",
        "import matplotlib.pyplot as plt\n",
        "\n",
        "#X, y = make_blobs(centers=4, n_samples=500, n_features=2, shuffle=True, random_state=42)\n",
        "# X, y = make_blobs(centers=3, n_samples=500, n_features=2, shuffle=True, random_state=40)\n",
        "# print(X.shape)\n",
        "    \n",
        "# clusters = len(np.unique(y))\n",
        "# print(clusters)\n",
        "k = KMeans(K=4, max_iters=150, plot_steps=True)\n",
        "y_pred = k.predict(x_pca)\n",
        "\n",
        "k.plot()"
      ],
      "execution_count": null,
      "outputs": [
        {
          "output_type": "display_data",
          "data": {
            "image/png": "[encoded data removed]",
            "text/plain": [
              "<Figure size 864x576 with 1 Axes>"
            ]
          },
          "metadata": {
            "tags": [],
            "needs_background": "light"
          }
        }
      ]
    },
    {
      "cell_type": "markdown",
      "metadata": {
        "id": "1E_Arq7ineea"
      },
      "source": [
        "## Conlusions"
      ]
    },
    {
      "cell_type": "markdown",
      "metadata": {
        "id": "p6wr4SRVeDm8"
      },
      "source": [
        "Let's remember what each principal component was \"made out of\" so we can interpret the graphic"
      ]
    },
    {
      "cell_type": "code",
      "metadata": {
        "id": "FxVP3paYq3lJ",
        "colab": {
          "base_uri": "https://localhost:8080/",
          "height": 392
        },
        "outputId": "7b05b944-9753-4ff8-f532-338b15fa306f"
      },
      "source": [
        "plt.figure(figsize=(8,6))\n",
        "sns.heatmap(df_comp,cmap='plasma')\n"
      ],
      "execution_count": null,
      "outputs": [
        {
          "output_type": "execute_result",
          "data": {
            "text/plain": [
              "<matplotlib.axes._subplots.AxesSubplot at 0x7f5fbd8cb208>"
            ]
          },
          "metadata": {
            "tags": []
          },
          "execution_count": 59
        },
        {
          "output_type": "display_data",
          "data": {
            "image/png": "[encoded data removed]",
            "text/plain": [
              "<Figure size 576x432 with 2 Axes>"
            ]
          },
          "metadata": {
            "tags": [],
            "needs_background": "light"
          }
        }
      ]
    },
    {
      "cell_type": "markdown",
      "metadata": {
        "id": "KxqkrJ1TerkY"
      },
      "source": [
        "The cluster on the right, marked by the green color, represents the Behind the baseline defender, indicating players with WNR++ and UFE++ as well as average NPA"
      ]
    },
    {
      "cell_type": "markdown",
      "metadata": {
        "id": "QU9jODVUjvSM"
      },
      "source": [
        "The Well-rounded players are represented by the cluster on the bottom side, as they WNR ammount is extremely reduced "
      ]
    },
    {
      "cell_type": "markdown",
      "metadata": {
        "id": "anKGlKbMjvNz"
      },
      "source": [
        "The blue cluster illustrates the serve-and-volley schemers, as they are associated with NPA++ FSW++ "
      ]
    },
    {
      "cell_type": "markdown",
      "metadata": {
        "id": "AC9ArFPFnX-i"
      },
      "source": [
        "Finally, the Counter-punchers are marked in red, the ones at the bottom of the graph, being recognized by the low ammount of UFE, \n",
        "but equally few attepts to end the point at the net NPA--"
      ]
    },
    {
      "cell_type": "markdown",
      "metadata": {
        "id": "62q23c0OnlAn"
      },
      "source": [
        "### End word"
      ]
    },
    {
      "cell_type": "markdown",
      "metadata": {
        "id": "5JTiLcV5npF5"
      },
      "source": [
        "By determinig which cluster an opponent is situated in, we, alongside our coach, can come up with a strategy to best them. \n",
        "Such strategies might include training in particular for returning the serve of, and later lobbing or passing a serve-and-volley schemer as well as many more"
      ]
    },
    {
      "cell_type": "markdown",
      "metadata": {
        "id": "Rlm17uO_ot5Q"
      },
      "source": [
        "Thank you for your time!"
      ]
    },
    {
      "cell_type": "markdown",
      "metadata": {
        "id": "o_Wdup4Hovp3"
      },
      "source": [
        "To your next level,\n",
        "        Mihalceanu Cristian"
      ]
    }
  ]
}